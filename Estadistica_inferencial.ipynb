{
 "cells": [
  {
   "cell_type": "markdown",
   "id": "1d845ad7-0969-4d9f-9f17-dd22de8c0ebb",
   "metadata": {},
   "source": [
    "# -------------------------\n",
    "## 3. Estadística Inferencial\n",
    "# --------------------------"
   ]
  },
  {
   "cell_type": "markdown",
   "id": "19cb5130-dc6d-41ba-b352-adfa5bb449ce",
   "metadata": {
    "jp-MarkdownHeadingCollapsed": true
   },
   "source": [
    "## 3.1 Estimador Máximo Verosímil"
   ]
  },
  {
   "cell_type": "markdown",
   "id": "2dc434cf-3a3d-466e-8e6c-3d31d7658f26",
   "metadata": {},
   "source": [
    "Existen distintos métodos para estimar parámetros desconocidos a partir de un conjunto de datos. El Estimador Máximo Verosímil (MLE) responde a la siguiente pregunta:\n",
    "\n",
    "¿Para qué valor del parámetro, los datos observados tienen la probabilidad más alta?\n",
    "\n",
    "**Ejemplo 1** Una moneda se lanza 100 veces. Dado que se obtienen 55 soles, econtrar el MLE para la probabilidad $p$ de obtener sol en un sólo lanzamiento,\n",
    "\n",
    "Podemos pensar en contar el número de soles en los 100 lanzamientos, entonces la probabilidad de obtener 55 soles en este experimento, es la siguiente:\n",
    "\n",
    "Si $X:$ el numero de soles que se obtienen al lanzar una moneda, se tiene que $X\\sim Bin(100,p)$, es decir, \n",
    "\n",
    "$$ P(55 soles; p) = \\binom{100}{55}p^{55}(1-p)^{100-55} $$\n"
   ]
  },
  {
   "cell_type": "markdown",
   "id": "8664de36-8352-4ee0-a37f-1b7e20e89c76",
   "metadata": {},
   "source": [
    "**Función de verosímilitud.** Sea $X_1,X_2,\\dots,X_n$ una muestra aleatoria con $f(x;\\theta)$. La función de verosimilitud (likelihood) es:\n",
    "$$ f(x_1,\\dots,x_n;\\theta) = f(x_1;\\theta)\\cdots f(x_n;\\theta) $$\n",
    "Entpnces, \n",
    "$$ L(x_1,\\dots,x_n;\\theta) = \\prod_{i=1}^n f(x_i,\\theta) $$\n",
    "\n",
    "Ejemplo. Si $X_1,\\dots,X_n$ es una m.a. Poisson($\\lambda$), entonces\n",
    "$$ L(x_1,\\dots,x_n;\\lambda) = \\frac{e^{-n\\lambda} \\lambda^{\\sum x_i }}{\\prod x_i !}$$ "
   ]
  },
  {
   "cell_type": "code",
   "execution_count": null,
   "id": "ca7ee6f0-0f59-4d1b-895f-b0756f86cd7f",
   "metadata": {},
   "outputs": [],
   "source": []
  },
  {
   "cell_type": "markdown",
   "id": "c34f54d4-dffb-4601-b864-c287c874783e",
   "metadata": {},
   "source": [
    "**Estimador Máximo Verosímil** es el valor de $\\theta$, donde $L(x_1,\\dots,x_n;\\theta)$ alcanza el máximo.\n",
    "\n",
    "Pasos: \n",
    "\n",
    "- $$ L(x_1,\\dots,x_n;\\theta) = \\prod_{i=1}^n f(x_i,\\theta) $$\n",
    "- $$\\ln L(x_1,\\dots,x_n;\\theta) $$\n",
    "- $$ \\frac{d\\ln L(x_1,\\dots,x_n;\\theta)}{d\\theta} $$\n",
    "- $$ \\frac{d\\ln L(x_1,\\dots,x_n;\\theta)}{d\\theta} = 0 $$\n",
    "  y despejar $\\theta$ para encontrar el máximo."
   ]
  },
  {
   "cell_type": "markdown",
   "id": "01bac067-f664-40b2-8203-1c7aec67e672",
   "metadata": {},
   "source": [
    "Para nuestro caso, tenemos\n",
    "$$ \\frac{P(55 soles ;p)}{dp}=\\binom{100}{55}p^{55}(1-p)^{45} - 45p^{55}(1-p)^44=0$$\n",
    "entonces, resolviendo para $p$, se tiene\n",
    "$$ \\binom{100}{55}p^{55}(1-p)^{45}=45^{55}(1-p)^44 $$\n",
    "entonces,\n",
    "$$ 55(1-p) = 45p $$\n",
    "entonces, \n",
    "$$p = \\frac{55}{100}$$\n",
    "\n",
    "Por lo tanto, el MLE para $p$, es $\\hat{p}=0.55$"
   ]
  },
  {
   "cell_type": "code",
   "execution_count": 16,
   "id": "aed685e0-520d-4036-9ef7-062b983269e7",
   "metadata": {},
   "outputs": [
    {
     "name": "stdout",
     "output_type": "stream",
     "text": [
      "Es estimador de máxima verosimilitud es 11/20\n"
     ]
    }
   ],
   "source": [
    "from scipy.stats import bernoulli, binom \n",
    "import numpy as np\n",
    "import sympy # para calculo simbolico y algebraico -> encontra el estimador de maneta analítica\n",
    "from sympy.abc import x\n",
    "\n",
    "# Definir a p como una variable simbolica positiva\n",
    "\n",
    "p = sympy.symbols('p', positive = True )\n",
    "f = p**55 * (1-p)**(100-55)\n",
    "phat = sympy.solve(sympy.diff(f,p),p)[0]\n",
    "\n",
    "print(\"Es estimador de máxima verosimilitud es\", phat)"
   ]
  },
  {
   "cell_type": "markdown",
   "id": "cb70c305-3e2d-49e8-8e1e-3127a5264a68",
   "metadata": {},
   "source": [
    "Veamos otro ejemplo:"
   ]
  },
  {
   "cell_type": "code",
   "execution_count": 72,
   "id": "c986bdbb-177a-466c-a805-9dd7acc28ca3",
   "metadata": {},
   "outputs": [
    {
     "data": {
      "text/plain": [
       "array([1, 0, 1, 1, 1, 0, 1, 1, 0, 0, 1, 0, 0, 0, 1, 1, 1, 0, 1, 1, 0, 1,\n",
       "       1, 1, 1, 0, 1, 1, 1, 0, 1, 0, 1, 1, 1, 0, 0, 1, 0, 1, 1, 1, 1, 1,\n",
       "       1, 0, 1, 1, 1, 1, 1, 1, 1, 1, 0, 1, 1, 0, 1, 0, 1, 1, 1, 1, 0, 1,\n",
       "       1, 1, 1, 0, 1, 0, 1, 1, 1, 0, 0, 0, 1, 1, 1, 1, 1, 1, 1, 1, 1, 1,\n",
       "       1, 1, 0, 1, 0, 0, 1, 1, 1, 1, 1, 0], dtype=int64)"
      ]
     },
     "execution_count": 72,
     "metadata": {},
     "output_type": "execute_result"
    }
   ],
   "source": [
    "r = binom.rvs(1,0.7, size=100)\n",
    "r"
   ]
  },
  {
   "cell_type": "code",
   "execution_count": 70,
   "id": "34f99224-25d8-47e4-955a-1b7107c7a8d1",
   "metadata": {},
   "outputs": [
    {
     "name": "stdout",
     "output_type": "stream",
     "text": [
      "Es estimador de máxima verosimilitud es 63/100\n"
     ]
    }
   ],
   "source": [
    "f = p**x*(1-p)**(1-x)\n",
    "J = np.prod([f.subs(x,i) for i in r])\n",
    "logJ = sympy.expand_log(sympy.log(J)) #logaritmo\n",
    "phat = sympy.solve(sympy.diff(logJ,p),p)[0]\n",
    "print(\"Es estimador de máxima verosimilitud es\", phat)"
   ]
  },
  {
   "cell_type": "markdown",
   "id": "a76c0fbf-4db4-4932-99d2-53e37fbe58c0",
   "metadata": {
    "jp-MarkdownHeadingCollapsed": true
   },
   "source": [
    "## Ejercicios"
   ]
  },
  {
   "cell_type": "markdown",
   "id": "f63cfc07-4ec9-40d4-91b6-1f93b42fb7d7",
   "metadata": {},
   "source": [
    "$\\textcolor{red}{Ejercicio \\space 1}$\n",
    "\n",
    " El tiempo de retardo para pacientes con enfermedad coronaria potencial se define como la duración entre el comienzo de un síntoma agudo cardiovascular y la llegada a la unidad de emergencia.\n",
    "\n",
    "Se supone que el tiempo de retardo sigue una distribución exponencial con parámetro $\\theta $.\n",
    "\n",
    "Se registraron los tiempos de retardo (en minutos) en la clínica para los primeros 20 pacientes:\n",
    "\n",
    "$$ 525, \\ 719, \\ 2880, \\ 150, \\ 30, \\ 251, \\ 45, \\ 858, \\ 15, \\ 47, \\ 90, \\ 56, \\ 68, \\ 6, \\ 189, \\ 180, \\ 60, \\ 60, \\ 294, \\ 747 $$\n",
    "\n",
    "- Encuentra un estimador por el método de momentos para la media de la distribución.\n",
    "- Encuentra el valor del estimador con los datos dados."
   ]
  },
  {
   "cell_type": "markdown",
   "id": "2afc8f0d-2d41-4b1b-8d6b-31c67ba1a68b",
   "metadata": {},
   "source": [
    "Solución\n",
    "\n",
    "- Encuentra un estimador por el método de momentos para la media de la distribución.\n",
    "  \n",
    " Si $X\\sim Exp(\\theta)$, sabemos que $E[x]=\\theta$ entonces igualando $E[x]=\\frac{1}{n}\\sum x_i$\n",
    "\n",
    " Igualamos $\\theta=\\frac{1}{n}\\sum x_i$\n",
    "\n",
    " $\\theta=\\bar{x}$, entonces: $ \\hat{\\theta}=\\bar{x}$\n",
    "\n",
    "- Encuentra el valor del estimador con los datos dados.\n",
    "  \n",
    "$ \\hat{\\theta}=\\bar{x}=\\frac{7210}{20}$\n"
   ]
  },
  {
   "cell_type": "markdown",
   "id": "04ebbda6-95d2-434b-81a1-f551de259ad0",
   "metadata": {},
   "source": [
    "$\\textcolor{red}{Ejercicio  \\space 2}$"
   ]
  },
  {
   "cell_type": "markdown",
   "id": "81b2cc33-73c5-4e8d-b100-76bd737196f2",
   "metadata": {},
   "source": [
    "Ejercicio. Sea una muestra aleatoria $X_1, \\ldots, X_n \\overset{iid}{\\sim} \\mathcal{N}(\\mu, \\sigma^2) $.\n",
    "Queremos encontrar el estimador de máxima verosimilitud para $\\mu$ y $\\sigma^2$.\n",
    "\n",
    "La función de densidad es:\n",
    "$$ f(x; \\mu, \\sigma^2) = \\frac{1}{\\sqrt{2\\pi \\sigma^2}} \\exp\\left(-\\frac{(x - \\mu)^2}{2\\sigma^2}\\right) \\cdot \\mathbf{1}_{(-\\infty, \\infty)}(x)$$"
   ]
  },
  {
   "cell_type": "markdown",
   "id": "205a680b-3f2e-4c51-b248-703c61a70819",
   "metadata": {},
   "source": [
    "- Solución\n",
    "  \n",
    "Dado un conjunto de datos $X = \\{x_1, x_2, \\dots, x_n\\}$ que siguen una distribución normal $N(\\mu, \\sigma^2)$, la función de verosimilitud es el producto de las densidades individuales:\n",
    "\n",
    "$\n",
    "L(\\mu, \\sigma^2) = \\prod_{i=1}^{n} \\frac{1}{\\sqrt{2\\pi\\sigma^2}} \\exp\\left(-\\frac{(x_i - \\mu)^2}{2\\sigma^2}\\right).$\n",
    "\n",
    "Tomamos el logaritmo de la verosimilitud:\n",
    "\n",
    "$\n",
    "\\ln L(\\mu, \\sigma^2) = \\sum_{i=1}^{n} \\left[ -\\frac{1}{2} \\ln(2\\pi\\sigma^2) - \\frac{(x_i - \\mu)^2}{2\\sigma^2} \\right].$\n",
    "\n",
    "$\n",
    "\\ln L(\\mu, \\sigma^2) = -\\frac{n}{2} \\ln(2\\pi\\sigma^2) - \\frac{1}{2\\sigma^2} \\sum_{i=1}^{n} (x_i - \\mu)^2.$\n",
    "\n",
    "Estimador de $\\mu$\n",
    "Derivamos respecto a $\\mu$:\n",
    "$\n",
    "\\frac{\\partial \\ln L}{\\partial \\mu} = -\\frac{1}{\\sigma^2} \\sum_{i=1}^{n} (x_i - \\mu).$\n",
    "\n",
    "Igualamos a cero:\n",
    "$\\sum_{i=1}^{n} (x_i - \\mu) = 0$\n",
    "\n",
    "$\\mu = \\frac{1}{n} \\sum_{i=1}^{n} x_i.$\n",
    "\n",
    "Por lo tanto, el estimador de máxima verosimilitud de $\\mu$ es la media muestral:\n",
    "$\\hat{\\mu} = \\bar{x} = \\frac{1}{n} \\sum_{i=1}^{n} x_i.$\n",
    "Estimador de $\\sigma^2$\n",
    "Derivamos respecto a $\\sigma^2$:\n",
    "$\\frac{\\partial \\ln L}{\\partial \\sigma^2} = -\\frac{n}{2\\sigma^2} + \\frac{1}{2\\sigma^4} \\sum_{i=1}^{n} (x_i - \\mu)^2$\n",
    "\n",
    "Igualamos a cero:\n",
    "$-\\frac{n}{2\\sigma^2} + \\frac{1}{2\\sigma^4} \\sum_{i=1}^{n} (x_i - \\mu)^2 = 0$\n",
    "\n",
    "Multiplicamos por $2\\sigma^4$:\n",
    "$-n\\sigma^2 + \\sum_{i=1}^{n} (x_i - \\mu)^2 = 0$\n",
    "$\n",
    "\\sigma^2 = \\frac{1}{n} \\sum_{i=1}^{n} (x_i - \\mu)^2$\n",
    "\n",
    "Por lo tanto, el estimador de máxima verosimilitud de $\\sigma^2$ es:\n",
    "$\\hat{\\sigma}^2 = \\frac{1}{n} \\sum_{i=1}^{n} (x_i - \\bar{x})^2$\n",
    "\n",
    "Los estimadores de máxima verosimilitud para la distribución normal son:\n",
    "\n",
    "  $\\hat{\\mu} = \\bar{x},  \\space   $       $  \\space  \\space   \\hat{\\sigma}^2 = \\frac{1}{n} \\sum_{i=1}^{n} (x_i - \\bar{x})^2$\n"
   ]
  },
  {
   "cell_type": "markdown",
   "id": "c6bb331b-75b1-44be-86a0-52124179e79c",
   "metadata": {},
   "source": [
    "$\\textcolor{red}{Ejercicio  \\space 3}$"
   ]
  },
  {
   "cell_type": "markdown",
   "id": "0a99fcb3-17fa-4306-9d33-92b9d3087347",
   "metadata": {},
   "source": [
    "Ejercicio (Pyton). Suponga que la vida util de los focos de cierta marca, se modela mediante una distribución expoencial de parametro $\\theta$ (desconocido). Probamos 5 focos y encontramos que tienen una vida útil de $2,3,1,3$ y $5$ años, respectivamente. ¿Cuál es el MLE para $\\theta$?"
   ]
  },
  {
   "cell_type": "code",
   "execution_count": 117,
   "id": "a4e66078-2eb0-4369-982b-74f89ecbd4d0",
   "metadata": {},
   "outputs": [
    {
     "name": "stdout",
     "output_type": "stream",
     "text": [
      "El estimador de máxima verosimilitud para theta es: 14/5\n"
     ]
    }
   ],
   "source": [
    "import sympy\n",
    "import numpy as np\n",
    "\n",
    "# Datos de la muestra\n",
    "datos = [2, 3, 1, 3, 5]\n",
    "\n",
    "# Definir el parámetro theta como variable simbólica\n",
    "theta = sympy.symbols('theta')\n",
    "\n",
    "# Función de verosimilitud para la distribución exponencial\n",
    "# L(theta) = (1/theta)^n * exp(-1/theta * sum(x_i))\n",
    "n = len(datos)\n",
    "suma_datos = sum(datos)\n",
    "\n",
    "# Logaritmo de la función de verosimilitud\n",
    "logL = n * sympy.log(theta) + (1/theta) * suma_datos\n",
    "\n",
    "# Derivada de la log-verosimilitud con respecto a theta\n",
    "derivada_logL = sympy.diff(logL, theta)\n",
    "\n",
    "# Resolver para theta al igualar la derivada a cero\n",
    "theta_mle = sympy.solve(derivada_logL, theta)[0]\n",
    "\n",
    "# Mostrar el estimador MLE\n",
    "print(f\"El estimador de máxima verosimilitud para theta es: {theta_mle}\")\n"
   ]
  },
  {
   "cell_type": "markdown",
   "id": "2683bd10-462d-44fd-8d9d-df8e8796ab05",
   "metadata": {},
   "source": [
    "$\\textcolor{red}{Ejercicio  \\space 4}$"
   ]
  },
  {
   "attachments": {
    "091ac296-7364-4a36-87e7-fd20ee0f9b9b.png": {
     "image/png": "[encoded data removed]"
    }
   },
   "cell_type": "markdown",
   "id": "48b6aa56-e012-4227-8aaf-0ed8387704fb",
   "metadata": {},
   "source": [
    "![{1C6604BA-A017-42EA-BB52-E61CA432722B}.png](attachment:091ac296-7364-4a36-87e7-fd20ee0f9b9b.png)"
   ]
  },
  {
   "cell_type": "markdown",
   "id": "6f7c20e6-e18d-4c18-8b70-146636de6007",
   "metadata": {},
   "source": [
    "Solución \n",
    "\n",
    "Sabemos que, $f(x) = \\theta (1 + x)^{-(1 + \\theta)}, \\quad x \\geq 0, \\, \\theta > 1$"
   ]
  },
  {
   "cell_type": "markdown",
   "id": "256587e3-9d75-4552-b1cd-04062f753b28",
   "metadata": {},
   "source": [
    "$ E[X]$ se calcula como:\n",
    "\n",
    "$\n",
    "E[X] = \\int_0^\\infty x \\cdot f(x) \\, dx$\n",
    "\n",
    "Sustituyendo la función de densidad $ f(x) $:\n",
    "\n",
    "$\n",
    "E[X] = \\int_0^\\infty x \\cdot \\theta (1 + x)^{-(1 + \\theta)} \\, dx$\n",
    "\n",
    "Hacemos el cambio de variable $ u = 1 + x $, de modo que $ du = dx $ y $x = u - 1 $. La integral se convierte en:\n",
    "\n",
    "$E[X] = \\int_1^\\infty (u - 1) \\cdot \\theta u^{-(1 + \\theta)} \\, du$\n",
    "\n",
    "Distribuimos:\n",
    "\n",
    "$E[X] = \\theta \\left( \\int_1^\\infty u^{-(\\theta)} \\, du - \\int_1^\\infty u^{-(1 + \\theta)} \\, du \\right)$\n",
    "\n",
    "Las integrales conocidas son:\n",
    "\n",
    "$\n",
    "\\int_1^\\infty u^{-\\theta} \\, du = \\frac{1}{\\theta}, \\quad \\int_1^\\infty u^{-(1 + \\theta)} \\, du = \\frac{1}{\\theta + 1}$\n",
    "\n",
    "Por lo tanto, el valor esperado es:\n",
    "\n",
    "$\n",
    "E[X] = \\theta \\left( \\frac{1}{\\theta} - \\frac{1}{\\theta + 1} \\right)\n",
    "$\n",
    "\n",
    "Simplificando:\n",
    "\n",
    "$\n",
    "E[X] = 1 - \\frac{\\theta}{\\theta + 1}$\n",
    "\n",
    "$\n",
    "E[X] = \\frac{1}{\\theta - 1}\n",
    "$\n"
   ]
  },
  {
   "cell_type": "markdown",
   "id": "0f6ba106-f258-4252-9505-fe2b437d821f",
   "metadata": {},
   "source": [
    "Si $E[x]=\\frac{1}{n}\\sum x_i$"
   ]
  },
  {
   "cell_type": "markdown",
   "id": "388a0e83-2986-4c8a-8550-ae9fed0198ff",
   "metadata": {},
   "source": [
    "Igualamos $\\frac{1}{n}\\sum x_i =\\frac{1}{\\theta -1}$"
   ]
  },
  {
   "cell_type": "markdown",
   "id": "bedb8cca-6777-4bde-9753-502ff5b83df3",
   "metadata": {},
   "source": [
    "$\\bar{x} =\\frac{1}{\\theta - 1}$"
   ]
  },
  {
   "cell_type": "markdown",
   "id": "9c1d04c7-f01b-4a34-a38f-37ebceffa266",
   "metadata": {},
   "source": [
    "$\\hat{\\theta}=\\frac{1}{\\bar{x}}+1$"
   ]
  },
  {
   "cell_type": "markdown",
   "id": "44d6becc-d982-40cd-8861-6c202f293170",
   "metadata": {
    "jp-MarkdownHeadingCollapsed": true
   },
   "source": [
    "# 3.2 Intervalos de Confianza"
   ]
  },
  {
   "cell_type": "markdown",
   "id": "c42b0c24-d38b-4d66-8bac-d112f05759f7",
   "metadata": {},
   "source": [
    "El intervalo de confianza es un intervalo que da una aproximación de los valores entre los cuales se encuentra el valor de un parámetro poblacional con un determinado nivel de confianza"
   ]
  },
  {
   "cell_type": "code",
   "execution_count": 11,
   "id": "08458953-dfd7-4a6a-8bde-6a6ef9385934",
   "metadata": {},
   "outputs": [],
   "source": [
    "import numpy as np\n",
    "import matplotlib.pyplot as plt\n",
    "import scipy.stats as st"
   ]
  },
  {
   "cell_type": "markdown",
   "id": "0eb2da3a-ed5b-406e-bf02-7ec2702a4ba7",
   "metadata": {},
   "source": [
    "## Intervalo de Confianza para la media de una distribución normal (σ conocida)\n",
    "\n",
    "Sea $X_1, \\dots, X_n$ una m.a. $X_i \\sim \\mathcal{N}(\\mu, \\sigma^2)$. Entonces:\n",
    "\n",
    "- $\\bar{X} \\sim \\mathcal{N}(\\mu, \\frac{\\sigma^2}{n})$\n",
    "- $Z = \\frac{\\bar{X} - \\mu}{\\sigma / \\sqrt{n}} \\sim \\mathcal{N}(0,1)$\n",
    "\n",
    "### Nivel de significancia (error): $\\alpha$\n",
    "\n",
    "El intervalo de confianza se basa en que:\n",
    "$$\n",
    "\\mathbb{P}\\left( -z_{\\alpha/2} < \\frac{\\bar{X} - \\mu}{\\sigma / \\sqrt{n}} < z_{\\alpha/2} \\right)\n",
    "= \\mathbb{P}\\left( \\bar{X} - z_{\\alpha/2} \\frac{\\sigma}{\\sqrt{n}} < \\mu < \\bar{X} + z_{\\alpha/2} \\frac{\\sigma}{\\sqrt{n}} \\right)\n",
    "= 1 - \\alpha\n",
    "$$\n",
    "\n",
    "### El intervalo del $(1 - \\alpha) \\cdot 100\\%$ de confianza para $\\mu$ (con $\\sigma$ conocida) es:\n",
    "\n",
    "$$\n",
    "\\left( \\bar{X} - z_{\\alpha/2} \\frac{\\sigma}{\\sqrt{n}}, \\quad \\bar{X} + z_{\\alpha/2} \\frac{\\sigma}{\\sqrt{n}} \\right)\n",
    "$$\n",
    "donde\n",
    "\n",
    "- $\\sigma$ = desviación estándar  \n",
    "- $\\frac{\\sigma}{\\sqrt{n}}$ = error estándar de la media  \n",
    "- $z_{\\alpha/2}$ determina el nivel de confianza  \n",
    "- El intervalo está centrado en $\\bar{X}$\n",
    "\n",
    "**Observación**\n",
    "\n",
    "- A mayor $n$, menor es el error estándar, y el intervalo de confianza es más pequeño.\n",
    "- Esto hace que se acerque más a la media $\\mu$, es decir, que haya menor variación.\n"
   ]
  },
  {
   "cell_type": "markdown",
   "id": "d05da7cd-0911-4460-99e4-5cc7ea5c2aab",
   "metadata": {},
   "source": [
    "**Ejemplo 1** Para tratar de estimar la media de consumo por cliente en un gran restaurante, se reunieron datos de una muestra de 49 clientes durante 3 semanas.\n",
    "\n",
    "**a)** Supongamos que la **desviación estándar de la población** es de $\\$2.50$. ¿Cuál es el error estándar de la media?\n",
    "\n",
    "**b)** Con un nivel de confianza del $95\\%$, ¿cuál es el margen de error?\n",
    "\n",
    "**c)** Si la **media de la muestra** es de $\\$22.60$, cuál es el intervalo de confianza del $95\\%$ para la media de la población?"
   ]
  },
  {
   "cell_type": "code",
   "execution_count": 13,
   "id": "618a24e3-abaa-46fd-83bd-2463d54919ed",
   "metadata": {},
   "outputs": [
    {
     "name": "stdout",
     "output_type": "stream",
     "text": [
      " a) Error estándar de la media: 0.36\n",
      " b) Margen de error con 95% de confianza: 0.70\n",
      " c) Intervalo de confianza del 95%: (21.90,23.30)\n"
     ]
    }
   ],
   "source": [
    "# Datos\n",
    "n=49\n",
    "sigma = 2.50\n",
    "media_muestral = 22.60 \n",
    "confianza = 0.95\n",
    "\n",
    "# a) Error estándar de la media\n",
    "error_estandar = sigma / np.sqrt(n)\n",
    "#error_estandar\n",
    "print(f\" a) Error estándar de la media: {error_estandar:.2f}\")\n",
    "\n",
    "# b) Margen de error\n",
    "z = st.norm.ppf(1-(1-confianza) / 2)\n",
    "margen_error = z * error_estandar\n",
    "#margen_error\n",
    "print(f\" b) Margen de error con 95% de confianza: {margen_error:.2f}\")\n",
    "\n",
    "# c) \n",
    "limite_inferior = media_muestral - margen_error\n",
    "limite_superior = media_muestral + margen_error\n",
    "print(f\" c) Intervalo de confianza del 95%: ({limite_inferior:.2f},{limite_superior:.2f})\")"
   ]
  },
  {
   "cell_type": "markdown",
   "id": "ce2a63da-08ad-46c0-96fb-d72eb93ec724",
   "metadata": {},
   "source": [
    "$1-\\alpha=.95$, implica que $z_{\\alpha/2} = z_{0.025} = 1.96$"
   ]
  },
  {
   "cell_type": "markdown",
   "id": "e69497b9-cb01-4ef2-b02a-4319e859c163",
   "metadata": {},
   "source": [
    "**Ejemplo 2** Supongamos que se toma una muestra aleatoria de 100 personas para estimar la media del peso de una población, y se obtiene que la media "
   ]
  },
  {
   "cell_type": "code",
   "execution_count": 19,
   "id": "0b632016-1a38-46d0-923d-a0b9359179f9",
   "metadata": {},
   "outputs": [
    {
     "name": "stdout",
     "output_type": "stream",
     "text": [
      "Intervalo de confianza del 95% es: (68.04003601545995, 71.95996398454005)\n"
     ]
    }
   ],
   "source": [
    "# Datos\n",
    "n = 100\n",
    "media_muestral = 70\n",
    "sigma = 10\n",
    "nivel_confianza = 0.95\n",
    "error_estandar = sigma / np.sqrt(n)\n",
    "\n",
    "#Utilizaremos la función scipy.stats.norm.interval\n",
    "# Sintaxis\n",
    "# scipy.stats.norm.interval(confidence, loc = media, scale = error_estandar )\n",
    "\n",
    "intervalo = st.norm.interval(confidence = nivel_confianza, loc = media_muestral, scale = error_estandar)\n",
    "print(f\"Intervalo de confianza del 95% es: {intervalo}\")\n"
   ]
  },
  {
   "cell_type": "code",
   "execution_count": 21,
   "id": "9442b8dd-4d01-4795-b38f-ff9d5f0ccab3",
   "metadata": {},
   "outputs": [
    {
     "data": {
      "image/png": "[encoded data removed]",
      "text/plain": [
       "<Figure size 1000x500 with 1 Axes>"
      ]
     },
     "metadata": {},
     "output_type": "display_data"
    }
   ],
   "source": [
    "# Puntos para graficar la curva normal\n",
    "x = np.linspace(media_muestral - 4*error_estandar, media_muestral + 4*error_estandar, 500)\n",
    "y = st.norm.pdf(x, loc=media_muestral, scale=error_estandar)\n",
    "\n",
    "# Gráfica\n",
    "plt.figure(figsize=(10, 5))\n",
    "plt.plot(x, y, label='Distribución normal', color='black')\n",
    "\n",
    "# Sombrear el intervalo de confianza\n",
    "plt.fill_between(x, y, where=(x >= intervalo[0]) & (x <= intervalo[1]), color='skyblue', alpha=0.6, label='IC 95%')\n",
    "\n",
    "# Líneas verticales\n",
    "plt.axvline(intervalo[0], color='blue', linestyle='--', label=f'IC inferior = {intervalo[0]:.2f}')\n",
    "plt.axvline(intervalo[1], color='blue', linestyle='--', label=f'IC superior = {intervalo[1]:.2f}')\n",
    "plt.axvline(media_muestral, color='red', linestyle='-', label=f'Media muestral = {media_muestral}')\n",
    "\n",
    "plt.title('Intervalo de confianza del 95% para la media ($\\\\sigma$ conocida)', fontsize=14)\n",
    "plt.xlabel('Valor de la variable')\n",
    "plt.ylabel('Densidad')\n",
    "plt.legend()\n",
    "plt.grid(True)\n",
    "plt.show()"
   ]
  },
  {
   "cell_type": "markdown",
   "id": "603a29a0-8c4f-4857-ab25-e513d5c918d9",
   "metadata": {},
   "source": [
    "## Intervalo de Confianza para la media $\\mu$ de una distribución normal ($\\sigma$ deconocida)\n",
    "\n",
    "Sea $X_1, \\dots, X_n$ una m.a. $X_i \\sim \\mathcal{N}(\\mu, \\sigma^2)$. Entonces:\n",
    "\n",
    "- $\\bar{X} \\sim \\mathcal{N}(\\mu, \\frac{\\sigma^2}{n})$\n",
    "- $Z = \\frac{\\bar{X} - \\mu}{\\sigma / \\sqrt{n}} \\sim \\mathcal{N}(0,1)$\n",
    "\n",
    "Si el tamaño de la muestra es menor a 30, se utiliza la $t$: \n",
    "### Estadístico t\n",
    "\n",
    "Definimos el estadístico $t$ de la siguiente manera:\n",
    "$$T = \\frac{\\bar{X}-\\mu}{s/\\sqrt{n}} \\sim t_{(n-1)} $$\n",
    "\n",
    "### El intervalo del $(1 - \\alpha) \\cdot 100\\%$ de confianza para $\\mu$ (con $\\sigma$ desconocida) es:\n",
    "\n",
    "$$\n",
    "\\left( \\bar{X} - t_{\\alpha/2} \\frac{s}{\\sqrt{n}}, \\quad \\bar{X} + t_{\\alpha/2} \\frac{s}{\\sqrt{n}} \\right)\n",
    "$$\n",
    "donde\n",
    "\n",
    "- $s$ = desviación estándar muestral\n",
    "- $\\frac{s}{\\sqrt{n}}$ = error estándar de la media  \n",
    "- $t_{\\alpha/2}$ determina el nivel de confianza  \n",
    "- El intervalo está centrado en $\\bar{X}$"
   ]
  },
  {
   "cell_type": "markdown",
   "id": "ed08a0c9-f931-41ed-8f23-efc1efa190d0",
   "metadata": {},
   "source": [
    "**Ejemplo 3** Supongamos que tenemos los siguientes datos\n",
    "$$ datos = [45, 55, 67, 45, 68, 79, 98, 87, 84, 82] $$\n",
    "Calcular un intervalo de confianza para la media."
   ]
  },
  {
   "cell_type": "code",
   "execution_count": 25,
   "id": "f006c0be-db41-4338-bb19-e596cb1dd14f",
   "metadata": {},
   "outputs": [
    {
     "name": "stdout",
     "output_type": "stream",
     "text": [
      "Media muestral: 71.00\n",
      "Error estandar: 5.75\n",
      "El intervalo de confianza del 95% es: (58.000521742293884, 83.99947825770612)\n"
     ]
    }
   ],
   "source": [
    "# Datos del ejemplo \n",
    "data = [45, 55, 67, 45, 68, 79, 98, 87, 84, 82]\n",
    "confidence = 0.95\n",
    "gl = len(data) - 1 # grados de liber\n",
    "\n",
    "# Media y error estandar\n",
    "mean = np.mean(data)\n",
    "error_est = st.sem(data)\n",
    "\n",
    "# Intervalo de confianza usando t de Student\n",
    "intervalo = st.t.interval(confidence, gl, loc = mean, scale = error_est)\n",
    "\n",
    "print(f\"Media muestral: {mean:.2f}\")\n",
    "print(f\"Error estandar: {error_est:.2f}\")\n",
    "print(f\"El intervalo de confianza del 95% es: {intervalo}\")\n"
   ]
  },
  {
   "cell_type": "markdown",
   "id": "3598b2fd-5e4b-4c91-914e-b4ef00221499",
   "metadata": {},
   "source": [
    "**Ejemplo 4** Los artículos de cerámica utilizados sobre velas electricas sobrecargadas se rompen con diferentes presiones. Supongamos que los datos provienen de una distribución normal.\n",
    "\n",
    "La resistencia a la ruptura fue medida en una muestra de 100 artículos, y el promedio fue de $1750$ con un desviación estándar de 315.8\n",
    "\n",
    "**a)** Estimar con un nivel del confianza del $90\\%$ a la media poblacional de la presión de la ruptura.\n",
    "\n",
    "**b)** Estimar con un nivel del confianza del $90\\%$ a la varianza poblacional."
   ]
  },
  {
   "cell_type": "code",
   "execution_count": 28,
   "id": "ba2db09a-4e3d-4767-8065-7c9280961a41",
   "metadata": {},
   "outputs": [
    {
     "name": "stdout",
     "output_type": "stream",
     "text": [
      "El intervalo de confianza del 90% es: (1698.0555224608725, 1801.9444775391275)\n",
      "El intervalo de confianza del 90% es: (80123.48643850331, 128146.71537457063)\n",
      "El intervalo de confianza del 90% es: (80123.48643850331, 128146.71537457063)\n"
     ]
    }
   ],
   "source": [
    "from scipy.stats import chi2\n",
    "# datos\n",
    "n = 100\n",
    "media_muestral = 1750\n",
    "desv_estandar_muestral = 315.8\n",
    "confianza = 0.90\n",
    "\n",
    "# a) Usar la normal ya que el tamaño de la muestra es grande\n",
    "error_est = desv_estandar_muestral / np.sqrt(n)\n",
    "error_est\n",
    "intervalo_media = st.norm.interval(confidence=confianza, loc = media_muestral, scale = error_est)\n",
    "print(f\"El intervalo de confianza del 90% es: {intervalo_media}\")\n",
    "\n",
    "# b) Intervalo de confianza para la varianza (usar chi-cuadrada)\n",
    "alpha = 1-confianza\n",
    "gl = n-1\n",
    "s2 = desv_estandar_muestral**2\n",
    "\n",
    "#Cuantiles de la chi-cuadrada\n",
    "chi2_inf = st.chi2.ppf(alpha / 2,df=gl)\n",
    "chi2_sup = st.chi2.ppf(1- alpha / 2,df=gl)\n",
    "\n",
    "# Intervalo de confianza\n",
    "intervalo_varianza = ((gl * s2) / chi2_sup, (gl * s2) / chi2_inf )\n",
    "print(f\"El intervalo de confianza del 90% es: {intervalo_varianza}\")\n",
    "\n",
    "#Otra forma\n",
    "chi2_low, chi2_high = chi2.interval(confianza,df=gl)\n",
    "intervalo_varianza1 = ((gl * s2) / chi2_high, (gl * s2) / chi2_low )\n",
    "print(f\"El intervalo de confianza del 90% es: {intervalo_varianza1}\")\n"
   ]
  },
  {
   "cell_type": "markdown",
   "id": "65c140ca-09ca-419e-907e-47335f098b13",
   "metadata": {},
   "source": [
    "**Ejemplo**  El artículo *\"Evaluation of a Ventilation Strategy to Prevent Barotrauma in Patients at High Risk for Acute Respiratory Distress Syndrome\"* reportó sobre un experimento con 120 pacientes con anestesistas en cuidados intensivos (UCI), los cuales fueron divididos al azar en dos grupos, donde cada uno esta compuesto por 60 pacientes. \n",
    "\n",
    "- Grupo A: promedio de permanencia = 14.1 horas\n",
    "- Grupo B: promedio de permanencia = 17.5 horas\n",
    "- Desviación estándar en ambos = 5.1 hrs\n",
    "\n",
    "Encontrar un intervalo del $95\\%$ de confianza para la diferecia de medias poblacionales: $(\\mu_A - \\mu_B)$  "
   ]
  },
  {
   "cell_type": "code",
   "execution_count": 31,
   "id": "f67e2973-b337-4f12-a854-368c6026c6d3",
   "metadata": {},
   "outputs": [
    {
     "name": "stdout",
     "output_type": "stream",
     "text": [
      "Diferencia de las medias: -3.40\n",
      "Intervalo de confianza del 95%: (-5.22,-1.58)\n"
     ]
    }
   ],
   "source": [
    "#Datos \n",
    "n1 = 60\n",
    "n2 = 60\n",
    "media1 = 14.1\n",
    "media2 = 17.5\n",
    "sigma = 5.1\n",
    "confianza = 0.95\n",
    "alpha = 1-confianza\n",
    "#gl = n1 + n2 -2\n",
    "\n",
    "#valor critico\n",
    "z = st.norm.ppf(1 - alpha / 2)\n",
    "\n",
    "#Error estandar\n",
    "error_est = sigma * np.sqrt(1/n1 + 1/n2)\n",
    "dif_medias = media1 - media2\n",
    "margen_error = z *error_est\n",
    "\n",
    "lim_inf = dif_medias - margen_error\n",
    "lim_sup = dif_medias + margen_error\n",
    "print(f\"Diferencia de las medias: {dif_medias:.2f}\")\n",
    "print(f\"Intervalo de confianza del 95%: ({lim_inf:.2f},{lim_sup:.2f})\")"
   ]
  },
  {
   "cell_type": "markdown",
   "id": "b3bf28e8-2a19-404e-b5a9-ff64f91be063",
   "metadata": {},
   "source": [
    "##  Ejercicios IC"
   ]
  },
  {
   "cell_type": "markdown",
   "id": "a94753f3-cf3e-4ce4-b6af-20d6b236530c",
   "metadata": {},
   "source": [
    "\n",
    "**1. Ejercicio** En una encuesta de una Universidad, 225 estudiantes son seleccionados al azar de los que toman cálculo y se les pregunta si cálculo es su materia favorita. 100 estudiantes responden que el cálculo es su materia favorita. Proporcione un intervalo de confianza del 95 %  para la proporción de todos los estudiantes que toman cálculo y que la consideran su materia favorita.  "
   ]
  },
  {
   "cell_type": "code",
   "execution_count": 42,
   "id": "a2f98008-b182-48a1-a36f-1dadb1a7c1ba",
   "metadata": {},
   "outputs": [],
   "source": [
    "import numpy as np\n",
    "import matplotlib.pyplot as plt\n",
    "import scipy.stats as st\n",
    "import statistics"
   ]
  },
  {
   "cell_type": "markdown",
   "id": "7d4b1e24-9a84-4b1f-9532-c29a74eb5a4e",
   "metadata": {},
   "source": [
    "\n",
    "\n",
    "\n",
    "De acuerdo al libro Mendenhall, tenemos que la formúla para la estimación de intervalos de una muestra grande para una sola proporción poblacional $p$, con base en $Y$, el número de éxitos observados durante $n$ intentos en un experimento binomial es:\n",
    "\n",
    "$IC = \\hat{p}\\pm  Z_{\\alpha/2}  \\sqrt{\\frac{\\hat{p}(1 - \\hat{p})}{n}}$\n",
    "\n",
    " $\\hat{p}$ es la proporción de estudiantes que dijeron que cálculo es su materia favorita (en este caso, $\\hat{p} = \\frac{100}{225} = 0.4444$).\n",
    " $n$ es el tamaño de la muestra (en este caso, $n = 225$).\n",
    " $Z_{\\alpha/2}$ es el valor crítico de la distribución normal estándar para un intervalo de confianza del 95\\%. Para un intervalo del 95\\%, el valor  es aproximadamente 1.96."
   ]
  },
  {
   "cell_type": "code",
   "execution_count": 37,
   "id": "22f6f84f-bc40-44e9-b2c8-fb9c7b25b600",
   "metadata": {},
   "outputs": [
    {
     "data": {
      "text/plain": [
       "(0.37951684884617914, 0.5093720400427098)"
      ]
     },
     "execution_count": 37,
     "metadata": {},
     "output_type": "execute_result"
    }
   ],
   "source": [
    "import math\n",
    "import scipy.stats as stats\n",
    "\n",
    "# Datos proporcionados\n",
    "n = 225  # Tamaño de la muestra\n",
    "x = 100  # Número de estudiantes que consideran cálculo su materia favorita\n",
    "p_hat = x / n  # Proporción muestral\n",
    "\n",
    "# Nivel de confianza del 95% (Zα/2)\n",
    "Z = stats.norm.ppf(0.975)\n",
    "\n",
    "# Error estándar\n",
    "SE = math.sqrt(p_hat * (1 - p_hat) / n)\n",
    "\n",
    "# Margen de error\n",
    "ME = Z * SE\n",
    "\n",
    "# Intervalo de confianza\n",
    "ci_lower = p_hat - ME\n",
    "ci_upper = p_hat + ME\n",
    "\n",
    "# Resultados\n",
    "ci_lower, ci_upper\n"
   ]
  },
  {
   "cell_type": "markdown",
   "id": "eb001964-0812-480c-86e6-c60f67bdb350",
   "metadata": {},
   "source": [
    "**2. Ejercicio** Los datos $1.2,\\ 2.1,\\ 2.3,\\ 1.9,\\ 3.0,\\ 1.5,\\ 2.8,\\ 2.4,\\ 1.7,\\ 2.6,\\ 2.0,\\ 1.8,\\ 3.1,\\ 2.2,\\ 2.5$ se toman a partir de una distribución normal $N(\\mu,\\sigma^2)$ con $\\mu$ desconocida.\n",
    "\n",
    "**a)** Encuentra un intervalo de confianza al nivel de $90\\%$ para $\\mu$, dado que $\\sigma =2$.\n",
    "\n",
    "**b)** Encuentra un intervalo de confianza al nivel de $90\\%$ para $\\mu$.\n",
    "\n",
    "**c)** Encuentra un intervalo de confianza al nivel de $90\\%$ para $\\sigma^2$."
   ]
  },
  {
   "cell_type": "code",
   "execution_count": 44,
   "id": "4a34a39c-01b4-44eb-ad57-1607abef5ebf",
   "metadata": {},
   "outputs": [
    {
     "name": "stdout",
     "output_type": "stream",
     "text": [
      " A) Intervalo de confianza del 90% es: (1.3572679061157438, 3.056065427217589)\n",
      "b) El intervalo de confianza del 90% es: (1.9590867859121577, 2.4542465474211754)\n",
      " c) El intervalo de confianza del 90% es: (0.17518977811239209, 0.6314968974778152)\n"
     ]
    }
   ],
   "source": [
    "#A)\n",
    "# Datos\n",
    "n = 15\n",
    "datos = [1.2, 2.1, 2.3, 1.9, 3.0, 1.5, 2.8, 2.4, 1.7, 2.6, 2.0, 1.8, 3.1, 2.2, 2.5]\n",
    "\n",
    "# Calcular el promedio\n",
    "media_muestral = statistics.mean(datos)\n",
    "\n",
    "sigma = 2\n",
    "nivel_confianza = 0.90\n",
    "error_estandar = sigma / np.sqrt(n)\n",
    "error_estandar\n",
    "intervalo = st.norm.interval(confidence = nivel_confianza, loc = media_muestral, scale = error_estandar)\n",
    "print(f\" A) Intervalo de confianza del 90% es: {intervalo}\")         \n",
    "\n",
    "#B)\n",
    "# Datos del ejemplo \n",
    "\n",
    "confidence = 0.90\n",
    "gl = len(datos) - 1 # grados de liber\n",
    "\n",
    "# Media y error estandar\n",
    "mean = np.mean(datos)\n",
    "error_est = st.sem(datos)\n",
    "\n",
    "# Intervalo de confianza usando t de Student\n",
    "intervalo = st.t.interval(confidence, gl, loc = mean, scale = error_est)\n",
    "\n",
    "\n",
    "print(f\"b) El intervalo de confianza del 90% es: {intervalo}\")\n",
    "\n",
    "## C)\n",
    "\n",
    "alpha = 1-nivel_confianza\n",
    "gl = n-1\n",
    "import math\n",
    "\n",
    "# Calcular el promedio\n",
    "promedio = sum(datos) / len(datos)\n",
    "\n",
    "# Calcular la desviación estándar\n",
    "\n",
    "desv_estandar_muestral = np.std(datos, ddof=1)\n",
    "s2 = desv_estandar_muestral**2\n",
    "\n",
    "#Cuantiles de la chi-cuadrada\n",
    "chi2_inf = st.chi2.ppf(alpha / 2,df=gl)\n",
    "chi2_sup = st.chi2.ppf(1- alpha / 2,df=gl)\n",
    "\n",
    "# Intervalo de confianza\n",
    "intervalo_varianza = ((gl * s2) / chi2_sup, (gl * s2) / chi2_inf )\n",
    "print(f\" c) El intervalo de confianza del 90% es: {intervalo_varianza}\")\n"
   ]
  },
  {
   "cell_type": "markdown",
   "id": "3c99b0f5-ac71-42f3-a082-3562a22cd974",
   "metadata": {},
   "source": [
    "     \n",
    "**3. Ejercicio** Los ingresos semanales promedio de las personas que trabajan en varias industrias aparecieron en el *The New York Times 1988 Almanac*.  \n",
    "Esos ingresos para quienes trabajan en los servicios fueron de $\\$369$. Suponga que este resultado se basó en una muestra de 250 personas dedicadas a los servicios y que la desviación estándar de la muestra fue de $\\$50$. Calcula el intervalo de confianza del 95% para la media de la población de ingresos semanales de personas que trabajan en los servicios."
   ]
  },
  {
   "cell_type": "code",
   "execution_count": 47,
   "id": "a441b8b1-ef6f-4689-95e1-09984d4a89e0",
   "metadata": {},
   "outputs": [
    {
     "name": "stdout",
     "output_type": "stream",
     "text": [
      "Intervalo de confianza del 95% es: (362.80204967695437, 375.19795032304563)\n"
     ]
    }
   ],
   "source": [
    "# Datos\n",
    "n = 250\n",
    "media_muestral = 369\n",
    "sigma = 50\n",
    "nivel_confianza = 0.95\n",
    "error_estandar = sigma / np.sqrt(n)\n",
    "\n",
    "#Utilizaremos la función scipy.stats.norm.interval\n",
    "# Sintaxis\n",
    "# scipy.stats.norm.interval(confidence, loc = media, scale = error_estandar )\n",
    "\n",
    "intervalo = st.norm.interval(confidence = nivel_confianza, loc = media_muestral, scale = error_estandar)\n",
    "print(f\"Intervalo de confianza del 95% es: {intervalo}\")"
   ]
  },
  {
   "cell_type": "markdown",
   "id": "5d43552e-8279-477c-a930-c6c6cba52a8f",
   "metadata": {},
   "source": [
    "**4. Ejercicio** En un estudio de préstamos a estudiantes, el Departamento de Educación informó que los beneficiarios del fondo Stafford Loan deberían un promedio de \\$12,658 al recibirse (*USA Today*, 5 de abril de 1995). Suponga que este promedio de deuda se basa en una muestra de 480 préstamos a estudiantes y que la desviación estándar de la población de las deudas al recibirse es \\$2,000.\n",
    "\n",
    "**a)** Determina un estimado de confianza del **90%** del promedio poblacional de la deuda.\n",
    "\n",
    "**b)** Determina un estimado de confianza del **95%** del promedio poblacional de la deuda.\n",
    "\n",
    "**c)** Determina un estimado de confianza del **99%** del promedio poblacional de la deuda.\n",
    "\n",
    "**d)** Describe lo que sucede con el **ancho del intervalo de confianza** a medida que se **aumenta el nivel de confianza**. ¿Parece razonable? Explica tu respuesta."
   ]
  },
  {
   "cell_type": "code",
   "execution_count": 50,
   "id": "1583191a-7a57-4343-8f03-435143e91726",
   "metadata": {},
   "outputs": [
    {
     "name": "stdout",
     "output_type": "stream",
     "text": [
      "a) Intervalo de confianza del 90% es: (12507.846094120749, 12808.153905879251)\n",
      " b)Intervalo de confianza del 95% es: (12479.080585628284, 12836.919414371716)\n",
      " C)Intervalo de confianza del 99% es: (12422.860031027241, 12893.139968972759)\n",
      " D) Conclusión a medida que el nivel de confianza se hace más grande tambien lo hace el intervalo de confianza, esto es  por que estamos expandiendo y asemejando más a la realidad los valores que puede tomar nuestro estimador\n"
     ]
    }
   ],
   "source": [
    "# a)\n",
    "# Datos\n",
    "n = 480\n",
    "media_muestral = 12658\n",
    "sigma = 2000\n",
    "nivel_confianza = 0.90\n",
    "error_estandar = sigma / np.sqrt(n)\n",
    "\n",
    "#Utilizaremos la función scipy.stats.norm.interval\n",
    "# Sintaxis\n",
    "# scipy.stats.norm.interval(confidence, loc = media, scale = error_estandar )\n",
    "\n",
    "intervalo = st.norm.interval(confidence = nivel_confianza, loc = media_muestral, scale = error_estandar)\n",
    "print(f\"a) Intervalo de confianza del 90% es: {intervalo}\")\n",
    "\n",
    "\n",
    "## B)\n",
    "\n",
    "\n",
    "# Datos\n",
    "\n",
    "nivel_confianza_b = 0.95\n",
    "error_estandar = sigma / np.sqrt(n)\n",
    "\n",
    "#Utilizaremos la función scipy.stats.norm.interval\n",
    "# Sintaxis\n",
    "# scipy.stats.norm.interval(confidence, loc = media, scale = error_estandar )\n",
    "\n",
    "intervalo = st.norm.interval(confidence = nivel_confianza_b, loc = media_muestral, scale = error_estandar)\n",
    "print(f\" b)Intervalo de confianza del 95% es: {intervalo}\")\n",
    "\n",
    "\n",
    "## C)\n",
    "\n",
    "\n",
    "# Datos\n",
    "\n",
    "nivel_confianza_b = 0.99\n",
    "error_estandar = sigma / np.sqrt(n)\n",
    "\n",
    "#Utilizaremos la función scipy.stats.norm.interval\n",
    "# Sintaxis\n",
    "# scipy.stats.norm.interval(confidence, loc = media, scale = error_estandar )\n",
    "\n",
    "intervalo = st.norm.interval(confidence = nivel_confianza_b, loc = media_muestral, scale = error_estandar)\n",
    "print(f\" C)Intervalo de confianza del 99% es: {intervalo}\")\n",
    "\n",
    "print(f\" D) Conclusión a medida que el nivel de confianza se hace más grande tambien lo hace el intervalo de confianza, esto es  por que estamos expandiendo y asemejando más a la realidad los valores que puede tomar nuestro estimador\")"
   ]
  },
  {
   "cell_type": "markdown",
   "id": "a48dade9-a3eb-46cc-9a94-e402d7c7360e",
   "metadata": {},
   "source": [
    "\n",
    "**5. Ejercicio** La encuesta anual de calidad de automóviles, efectuada por *J. D. Power & Associates*, determinó que la cantidad promedio de defectos, en todas las marcas, por cada vehículo nuevo es **1.07**  (*The Wall Street Journal*, 27 de enero de 1994). Suponga que se toma una muestra de **30 automóviles nuevos** de determinada marca y se obtienen las siguientes cantidades de defectos por vehículo:\n",
    "$$ 0, 1, 1, 2, 1, 0, 2, 3, 2, 1, 0, 2, 0, 0, 2, 3, 0, 4, 3, 1, 1, 1, 0, 2, 0, 2, 0, 3, 1, 0 $$\n",
    "\n",
    "**a)** ¿Cuál es el promedio muestral de la cantidad de defectos por vehículo?\n",
    "\n",
    "**b)** ¿Cuál es la desviación estándar de la muestra?\n",
    "\n",
    "**c)** Determine un intervalo de confianza del 95% para la **media de defectos** por vehículo de esta marca.\n",
    "\n",
    "**d)** Un analista sugirió que se debería **revisar una muestra mayor** antes de comparar con el promedio general de J.D. Power (1.07). ¿Respalda usted esta idea? ¿Por qué?"
   ]
  },
  {
   "cell_type": "code",
   "execution_count": 53,
   "id": "42d801ac-3627-467d-a42b-7553127af354",
   "metadata": {},
   "outputs": [
    {
     "name": "stdout",
     "output_type": "stream",
     "text": [
      " A) El promedio muestral de la cantidad de defectos por vehículo: 1.2666666666666666\n",
      " B) La desviación estandar es: 1.1724814044061258\n",
      " C) Intervalo de confianza del 95% es: (0.8471072941905251, 1.686226039142808)\n",
      " D) El estudio realizado marca que la cantidad promedio de defectos en todas las marcas es de 1.07, número que se encuentra dentro de nuestro intervalo de confinaza obtenido,  podriamos obtener nuevamente un intervalo con una muestra más grande pero en esta primera evaluación podemos ver que es acertado el estudio  \n"
     ]
    }
   ],
   "source": [
    "#a)\n",
    "import numpy as np\n",
    "import scipy.stats as stats\n",
    "defectos = [0, 1, 1, 2, 1, 0, 2, 3, 2, 1, 0, 2, 0, 0, 2, 3, 0, 4, 3, 1, 1, 1, 0, 2, 0, 2, 0, 3, 1, 0]\n",
    "\n",
    "n = 30\n",
    "datose = [0, 1, 1, 2, 1, 0, 2, 3, 2, 1, 0, 2, 0, 0, 2, 3, 0, 4, 3, 1, 1, 1, 0, 2, 0, 2, 0, 3, 1, 0]\n",
    "nivel_confianza = 0.95\n",
    "\n",
    "# Calcular el promedio\n",
    "promedio_muestral = statistics.mean(datose)\n",
    "print(f\" A) El promedio muestral de la cantidad de defectos por vehículo: {promedio_muestral}\")\n",
    "\n",
    "#b)\n",
    "# Desviación estándar muestral\n",
    "desviacion_estandar = np.std(defectos, ddof=1)\n",
    "print(f\" B) La desviación estandar es: {desviacion_estandar}\")\n",
    "\n",
    "\n",
    "#c)\n",
    "error_estandar =  desviacion_estandar / np.sqrt(n)\n",
    "intervalo = st.norm.interval(confidence = nivel_confianza, loc = promedio_muestral, scale = error_estandar)\n",
    "print(f\" C) Intervalo de confianza del 95% es: {intervalo}\")\n",
    "\n",
    "print(f\" D) El estudio realizado marca que la cantidad promedio de defectos en todas las marcas es de 1.07, número que se encuentra dentro de nuestro intervalo de confinaza obtenido,  podriamos obtener nuevamente un intervalo con una muestra más grande pero en esta primera evaluación podemos ver que es acertado el estudio  \")\n",
    "\n"
   ]
  },
  {
   "cell_type": "markdown",
   "id": "e77913b8-92ac-47e4-b6d8-87b21e71ece9",
   "metadata": {},
   "source": [
    "\n",
    "**6. Ejercicio** Un artículo que apareció en el ejemplar de noviembre de 1983 de *Consumer Reports* comparó varios tipos de baterías.  \n",
    "Se informó que los siguientes datos provienen de una muestra de 20 baterías (en horas de duración):\n",
    "$$ [2200, 2290, 2390, 2410, 2480, 2500, 2580, 2700, 2030, 2100, 2190, 1600, 1740, 1900, 1930, 2000, 1510, 1470, 1770, 1710] $$\n",
    "Determine la media muestral, la desviación estándar muestral, y el intervalo de confianza del **90%** para la media poblacional."
   ]
  },
  {
   "cell_type": "code",
   "execution_count": 56,
   "id": "4198dc38-ae16-4b22-922a-eb2c5c550ddd",
   "metadata": {},
   "outputs": [
    {
     "name": "stdout",
     "output_type": "stream",
     "text": [
      " A) El promedio muestral de la cantidad de defectos por vehículo: 2075\n",
      " B) La desviación estandar es: 368.9316011346676\n",
      " C) Intervalo de confianza del 95% es: (1939.3067902385742, 2210.693209761426)\n"
     ]
    }
   ],
   "source": [
    "import numpy as np\n",
    "import scipy.stats as stats\n",
    "\n",
    "baterias =[2200, 2290, 2390, 2410, 2480, 2500, 2580, 2700, 2030, 2100, 2190, 1600, 1740, 1900, 1930, 2000, 1510, 1470, 1770, 1710]\n",
    "n=20\n",
    "nivel_confianza = 0.90\n",
    "\n",
    "#  a) Calcular el promedio\n",
    "promedio_muestral = statistics.mean(baterias)\n",
    "print(f\" A) El promedio muestral de la cantidad de defectos por vehículo: {promedio_muestral}\")\n",
    "\n",
    "#b)\n",
    "# Desviación estándar muestral\n",
    "desviacion_estandar = np.std(baterias, ddof=1)\n",
    "print(f\" B) La desviación estandar es: {desviacion_estandar}\")\n",
    "\n",
    "\n",
    "#c)\n",
    "error_estandar =  desviacion_estandar / np.sqrt(n)\n",
    "\n",
    "intervalo = st.norm.interval(confidence = nivel_confianza, loc = promedio_muestral, scale = error_estandar)\n",
    "print(f\" C) Intervalo de confianza del 95% es: {intervalo}\")\n"
   ]
  },
  {
   "cell_type": "markdown",
   "id": "c69ea088-5668-4e36-8de3-8747925f0605",
   "metadata": {},
   "source": [
    "**7. Ejercicio** El toxafen es un insecticida que ha sido identificado como contaminante en el ecosistema de los Grandes Lagos.  \n",
    "Para investigar el efecto de la exposición al toxafen en animales, a grupos de ratas se les administró toxafen en su dieta.\n",
    "\n",
    "El artículo *\"Reproduction Study of Toxaphene in Rat\"* reporta **aumentos de peso (en gramos)** de ratas a las que se les administró una **dosis baja (4 ppm)** y de ratas de **control** cuya dieta no incluía el insecticida.\n",
    "\n",
    "- En el grupo **control**, una muestra de **23 ratas hembras** tuvo una media de **$\\bar{X_2} = 210$ g** y una desviación estándar de **32 g**.\n",
    "- En el grupo con **dosis baja**, una muestra de **20 ratas hembras** tuvo una media de **$\\bar{X_1} = 190$ g** y una desviación estándar de **54 g**.\n",
    "\n",
    "Encuentra un **intervalo de confianza del 90% para la diferencia de medias** poblacionales:  $\\mu_1 - \\mu_2$, donde:\n",
    "\n",
    "- $\\mu_1$ es la media poblacional de incremento de peso en el grupo con **dosis baja**.\n",
    "- $\\mu_2$ es la media poblacional de incremento de peso en el grupo **control**.\n",
    "\n",
    "¿Sugiere este intervalo que el toxafen **reduce** el incremento de peso en ratas?  \n",
    "¿Incluye el intervalo el valor 0? ¿Por qué es importante?"
   ]
  },
  {
   "cell_type": "code",
   "execution_count": 59,
   "id": "3e334cdc-8ca5-47b1-9bbe-4eed2b530c11",
   "metadata": {},
   "outputs": [
    {
     "name": "stdout",
     "output_type": "stream",
     "text": [
      "Diferencia de las medias: -20.00\n",
      "Intervalo de confianza del 95%: (-43.42,3.42)\n"
     ]
    }
   ],
   "source": [
    "import scipy.stats as stats\n",
    "import math\n",
    "\n",
    "# Datos proporcionados\n",
    "n1 = 20  # Tamaño de la muestra para el grupo con dosis baja\n",
    "n2 = 23  # Tamaño de la muestra para el grupo control\n",
    "mean1 = 190  # Media para el grupo con dosis baja\n",
    "mean2 = 210  # Media para el grupo control\n",
    "std1 = 54  # Desviación estándar para el grupo con dosis baja\n",
    "std2 = 32  # Desviación estándar para el grupo control\n",
    "\n",
    "# Calcular los grados de libertad usando la fórmula de Welch-Satterthwaite\n",
    "df = ( ( (std1**2 / n1) + (std2**2 / n2) ) ** 2 ) / ( ( (std1**2 / n1)**2 / (n1 - 1) ) + ( (std2**2 / n2)**2 / (n2 - 1) ) )\n",
    "\n",
    "# Valor t crítico para un intervalo de confianza del 90% (alfa = 0.10)\n",
    "t_critical = stats.t.ppf(1 - 0.05, df)\n",
    "\n",
    "# Diferencia de medias muestrales\n",
    "dif_medias = mean1 - mean2\n",
    "\n",
    "# Error estándar de la diferencia de medias\n",
    "se_diff = math.sqrt( (std1**2 / n1) + (std2**2 / n2) )\n",
    "\n",
    "# Intervalo de confianza\n",
    "margen_error = t_critical * se_diff\n",
    "lim_inf = dif_medias - margen_error\n",
    "lim_sup = dif_medias + margen_error\n",
    "print(f\"Diferencia de las medias: {dif_medias:.2f}\")\n",
    "print(f\"Intervalo de confianza del 95%: ({lim_inf:.2f},{lim_sup:.2f})\")\n",
    "\n"
   ]
  },
  {
   "cell_type": "markdown",
   "id": "03a88432-8adc-4eea-a90e-52277a18d776",
   "metadata": {},
   "source": [
    "\n",
    "¿Sugiere este intervalo que el toxafen **reduce** el incremento de peso en ratas?  \n",
    "¿Incluye el intervalo el valor 0? ¿Por qué es importante?"
   ]
  },
  {
   "cell_type": "markdown",
   "id": "4011b636-30af-4d0d-8dd9-f8f2adb79300",
   "metadata": {},
   "source": [
    "Si por lo que podemos ver  el intervalo de confianza en los cambios de peso de ratas es más amplio en lo negativo que en lo positivo"
   ]
  },
  {
   "cell_type": "markdown",
   "id": "bf8cb5cc-0383-48c5-b70e-1dc4bf611c90",
   "metadata": {},
   "source": [
    "Claro, la inclusión del 0 es importante porque existe la posibilidad de que haya ratas que no incremente su peso es decir se mantengan."
   ]
  },
  {
   "cell_type": "markdown",
   "id": "c7aa5b1e-d7f2-4c29-a600-1858a588db3f",
   "metadata": {
    "jp-MarkdownHeadingCollapsed": true
   },
   "source": [
    "\n",
    "## 3.3 Pruebas de Hipótesis\n"
   ]
  },
  {
   "cell_type": "markdown",
   "id": "0cffa826-0f99-4e03-bea4-1d472a80877c",
   "metadata": {},
   "source": [
    "\n",
    "\n",
    "Recuerde que, a menudo, uno de los objetivos de la estadística es hacer inferencias acerca de parámetros poblacionales desconocidos con base en la información contenida en datos muestrales. Estas inferencias se interpretan de dos formas: como estimaciones de los parámetros respectivos o como pruebas de hipótesis acerca de sus valores.\n",
    "\n",
    "En muchos aspectos, el procedimiento formal para pruebas de hipótesis es semejante al método científico. Éste observa la naturaleza, formula una teoría y la confronta con lo observado. En nuestro contexto, el científico plantea una hipótesis respecto a uno o más parámetros poblacionales: que son iguales a valores especificados. En seguida, toma una muestra de la población y compara sus observaciones con la hipótesis. Si las observaciones no concuerdan con la hipótesis, las rechaza. De lo contrario, concluye que la hipótesis es verdadera o que la muestra no detectó la diferencia entre los valores real e hipotético de los parámetros poblacionales.\n",
    "\n",
    "Por ejemplo, un investigador médico puede plantear la hipótesis de que un nuevo medicamento es más eficaz que otro para combatir una enfermedad. Para probarla, selecciona aleatoriamente pacientes infectados con la enfermedad y los divide en dos grupos. El nuevo medicamento A se administra a los pacientes del primer grupo y el B a los del segundo. Entonces, con base en el número de pacientes de cada grupo que se recuperen de la enfermedad, el investigador decide si el nuevo medicamento es más eficaz que el anterior. (Mendenhall,2007)\n",
    "\n",
    "\n",
    "\n",
    "\n"
   ]
  },
  {
   "cell_type": "markdown",
   "id": "17f984ea-fb07-42ae-9cfe-9b8865b13506",
   "metadata": {},
   "source": [
    "## Elementos de una prueba de hipótesis"
   ]
  },
  {
   "cell_type": "markdown",
   "id": "e4a3f390-a996-4148-a852-5c9a3f1758bd",
   "metadata": {},
   "source": [
    "\n",
    "\n",
    "Una prueba de hipótesis se compone de varios elementos fundamentales que permiten decidir, con base en una muestra, si se acepta o se rechaza una suposición inicial sobre un parámetro poblacional. Estos elementos son:\n",
    "\n",
    "- Hipótesis nula $H_0 $: Es una afirmación que se pone a prueba. Usualmente representa el estado actual o una posición neutral, por ejemplo, que no hay diferencia entre dos tratamientos o que un parámetro poblacional es igual a un cierto valor.\n",
    "\n",
    "- Hipótesis alternativa $ H_a $: Es la afirmación que se acepta si la evidencia estadística es suficientemente fuerte como para rechazar $H_0 $. Representa una diferencia, efecto o cambio respecto a lo establecido en la hipótesis nula.\n",
    "\n",
    "- Estadístico de prueba: Es una medida calculada a partir de los datos muestrales que se utiliza para decidir si se rechaza $H_0$. Este estadístico depende del tipo de prueba y de las características de la población (por ejemplo, media, proporción, varianza).\n",
    "\n",
    "- Región de rechazo: Es el conjunto de valores del estadístico de prueba para los cuales se rechaza $H_0 $. Se determina con base en el nivel de significancia $ \\alpha $, que es la probabilidad de cometer un error tipo $I$ rechazar $H_0 $ cuando en realidad es verdadera. (Mendenhall,2009)\n",
    "\n",
    "\n",
    "\n"
   ]
  },
  {
   "cell_type": "markdown",
   "id": "d964030d-67b8-42d8-b6ac-581f325ae4d5",
   "metadata": {},
   "source": [
    "\n",
    "### Ejercicio: Prueba de hipótesis para una distribución binomial\n",
    "\n",
    "Para la encuesta política de Jones se muestrearon $n = 15$ votantes. Deseamos probar las siguientes hipótesis:\n",
    "\n",
    "$\n",
    "H_0 : p = 0.5 \\quad \\text{contra} \\quad H_a : p < 0.5\n",
    "$\n",
    "\n",
    "El estadístico de prueba es $Y$, Encuentra el número de votantes a favor de Jones. Si seleccionamos la región de rechazo como:\n",
    "\n",
    "$\n",
    "RR = \\{ y \\leq 2 \\}\n",
    "$\n",
    "\n",
    "\n"
   ]
  },
  {
   "cell_type": "markdown",
   "id": "6a5414ca-1e8b-4018-b10f-69ceec4b3fca",
   "metadata": {},
   "source": [
    "### Solución \n",
    "\n",
    "\n",
    "Para la encuesta política de Jones se muestrearon $ n = 15 $ votantes. Deseamos probar la hipótesis:\n",
    "\n",
    "$\n",
    "H_0 : p = 0.5 \\quad \\text{contra} \\quad H_a : p < 0.5\n",
    "$\n",
    "\n",
    "donde $p $ representa la proporción de votantes que apoyan a Jones. El estadístico de prueba es:\n",
    "\n",
    "$\n",
    "Y = \\text{número de votantes que apoyan a Jones}\n",
    "$\n",
    "\n",
    "Bajo la hipótesis nula, $ Y \\sim \\text{Binomial}(n = 15, p = 0.5) $.\n",
    "\n",
    "Se ha seleccionado la siguiente región de rechazo:\n",
    "\n",
    "$\n",
    "RR = \\{ y \\leq 2 \\}\n",
    "$\n",
    "\n",
    "El nivel de significancia $\\alpha $ es la probabilidad de que $ Y \\leq 2 $ bajo $ H_0 $, es decir:\n",
    "\n",
    "$\n",
    "\\alpha = P(Y \\leq 2 \\mid p = 0.5) = P(Y = 0) + P(Y = 1) + P(Y = 2)\n",
    "$\n",
    "\n",
    "La fórmula para la distribución binomial es:\n",
    "\n",
    "$\n",
    "P(Y = y) = \\binom{n}{y} p^y (1 - p)^{n - y}\n",
    "$\n",
    "\n",
    "Para \\( p = 0.5 \\) y \\( n = 15 \\), se tiene:\n",
    "\n",
    "$\n",
    "(0.5)^{15} = \\frac{1}{32768}\n",
    "$\n",
    "\n",
    "Entonces, calculamos:\n",
    "\n",
    "$\n",
    "P(Y = 0) = \\binom{15}{0} \\cdot \\frac{1}{32768} = 1 \\cdot \\frac{1}{32768} = \\frac{1}{32768} $\n",
    "\n",
    "$P(Y = 1) = \\binom{15}{1} \\cdot \\frac{1}{32768} = 15 \\cdot \\frac{1}{32768} = \\frac{15}{32768} $\n",
    "\n",
    "$P(Y = 2) = \\binom{15}{2} \\cdot \\frac{1}{32768} = 105 \\cdot \\frac{1}{32768} = \\frac{105}{32768}\n",
    "$\n",
    "\n",
    "$\n",
    "\\alpha = \\frac{1 + 15 + 105}{32768} = \\frac{121}{32768} \\approx 0.00369\n",
    "$\n",
    "\n",
    "Conclusión: El nivel de significancia de la prueba, al usar la región de rechazo $ RR = \\{ y \\leq 2 \\} $, es aproximadamente:\n",
    "\n",
    "$\n",
    "\\boxed{\\alpha \\approx 0.00369}\n",
    "$\n",
    "\n",
    "\n"
   ]
  },
  {
   "cell_type": "code",
   "execution_count": null,
   "id": "7e81b355-8c76-4248-ac15-0f916eae4da3",
   "metadata": {},
   "outputs": [],
   "source": []
  }
 ],
 "metadata": {
  "kernelspec": {
   "display_name": "Python [conda env:base] *",
   "language": "python",
   "name": "conda-base-py"
  },
  "language_info": {
   "codemirror_mode": {
    "name": "ipython",
    "version": 3
   },
   "file_extension": ".py",
   "mimetype": "text/x-python",
   "name": "python",
   "nbconvert_exporter": "python",
   "pygments_lexer": "ipython3",
   "version": "3.12.7"
  }
 },
 "nbformat": 4,
 "nbformat_minor": 5
}
