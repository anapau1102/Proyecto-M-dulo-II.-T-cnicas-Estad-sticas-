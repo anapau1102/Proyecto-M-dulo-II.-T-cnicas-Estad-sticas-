{
 "cells": [
  {
   "cell_type": "markdown",
   "id": "c571062d-f6ab-4f85-85a1-951ed0eef832",
   "metadata": {},
   "source": [
    "## 1. Espacio de Probabilidad\n"
   ]
  },
  {
   "cell_type": "markdown",
   "id": "55f720ed-b4f3-4f83-bc09-120f2d9c2720",
   "metadata": {
    "jp-MarkdownHeadingCollapsed": true
   },
   "source": [
    "# ----------------------------------------\n",
    "## 1.1  Probabilidad Laplaciana (clásica)\n",
    "# ---------------------------------------"
   ]
  },
  {
   "cell_type": "markdown",
   "id": "ab494890-cea1-47f8-97de-7f4de0ec4174",
   "metadata": {},
   "source": [
    "\n",
    "\n",
    "### 1.1.1 Espacio Muestral\n",
    "El espacio muestral, también llamado espacio muestra,\n",
    "de un experimento aleatorio es el conjunto de todos los posibles resultados del experimento y se le denota, generalmente, por la letra griega\n",
    " $\\Omega$. (Rincón,2014).\n",
    " \n",
    "Teniendo esto en cuenta:\n",
    "\n",
    "Sea $A$ un evento, entonces\n",
    "\n",
    "$$ \\mathbb{P}(A) = \\frac{\\#A}{\\#\\Omega} $$\n",
    "\n",
    "**EJEMPLO:** Sea el experimento de lanzar una moneda 3 veces, de manera independiente (es decir, el $i$-ésimo lanzamiento no me afecta al $i+1$ lanzamiento). El espacio muestral de este experimento es:\n",
    "\n",
    "$$ \\Omega = \\{A,S\\} \\times \\{A,S\\} \\times \\{A,S\\} = \\{A,S\\}^3 $$\n",
    "y tenemos que $\\#\\Omega = 2^3$.\n",
    "\n",
    "Sean los eventos:\n",
    "* $A$: todos los resultados son águila\n",
    "* $S$: todos los resultados son soles\n",
    "* $E$: Por lo menos un resultado es sol\n",
    "  \n",
    "Calcular las probabilidades de estos eventos:\n",
    "\n",
    "**Solución** Vamos a descomponer mi conjunto $A$ de la siguiente manera:\n",
    "$$A = A_1 \\cap A_2 \\cap A_3 $$\n",
    "donde $A_i$: caé águila en el $i$-ésimo resultado."
   ]
  },
  {
   "cell_type": "code",
   "execution_count": 49,
   "id": "3f14bb3f-5cbf-432a-9482-a2fbb7201452",
   "metadata": {},
   "outputs": [
    {
     "data": {
      "text/plain": [
       "{('A', 'A', 'A'),\n",
       " ('A', 'A', 'S'),\n",
       " ('A', 'S', 'A'),\n",
       " ('A', 'S', 'S'),\n",
       " ('S', 'A', 'A'),\n",
       " ('S', 'A', 'S'),\n",
       " ('S', 'S', 'A'),\n",
       " ('S', 'S', 'S')}"
      ]
     },
     "execution_count": 49,
     "metadata": {},
     "output_type": "execute_result"
    }
   ],
   "source": [
    "# Vamos a crear el espacio muestral\n",
    "import itertools #importamos el modulo\n",
    "from itertools import product\n",
    "\n",
    "Omega = set( product({\"A\",\"S\"},repeat=3 ))\n",
    "Omega"
   ]
  },
  {
   "cell_type": "code",
   "execution_count": 51,
   "id": "2ddc618a-9fbd-4c4f-9882-9acef29830b3",
   "metadata": {},
   "outputs": [
    {
     "data": {
      "text/plain": [
       "8"
      ]
     },
     "execution_count": 51,
     "metadata": {},
     "output_type": "execute_result"
    }
   ],
   "source": [
    "len(Omega) # cardinalidad de Omega"
   ]
  },
  {
   "cell_type": "code",
   "execution_count": 53,
   "id": "3d9729e7-f4a9-4b56-b80b-ddb93f28bca6",
   "metadata": {},
   "outputs": [
    {
     "data": {
      "text/plain": [
       "{('A', 'A', 'A'), ('A', 'A', 'S'), ('A', 'S', 'A'), ('A', 'S', 'S')}"
      ]
     },
     "execution_count": 53,
     "metadata": {},
     "output_type": "execute_result"
    }
   ],
   "source": [
    "# Vamos a crear el evento A_1\n",
    "A_1 = { om for om in Omega if om[0]==\"A\"} # la primera coordenada es águila\n",
    "A_1"
   ]
  },
  {
   "cell_type": "code",
   "execution_count": 55,
   "id": "fd18265c-7d78-4594-bfbd-c83125602eee",
   "metadata": {},
   "outputs": [
    {
     "data": {
      "text/plain": [
       "{('A', 'A', 'A'), ('A', 'A', 'S'), ('S', 'A', 'A'), ('S', 'A', 'S')}"
      ]
     },
     "execution_count": 55,
     "metadata": {},
     "output_type": "execute_result"
    }
   ],
   "source": [
    "# Vamos a crear el evento A_2\n",
    "A_2 = { om for om in Omega if om[1]==\"A\"} # la segunda coordenada es águila\n",
    "A_2"
   ]
  },
  {
   "cell_type": "code",
   "execution_count": 57,
   "id": "fcedf772-c10b-42eb-bcd1-2609e928b7f6",
   "metadata": {},
   "outputs": [
    {
     "data": {
      "text/plain": [
       "{('A', 'A', 'A'), ('A', 'S', 'A'), ('S', 'A', 'A'), ('S', 'S', 'A')}"
      ]
     },
     "execution_count": 57,
     "metadata": {},
     "output_type": "execute_result"
    }
   ],
   "source": [
    "# Vamos a crear el evento A_3\n",
    "A_3 = { om for om in Omega if om[2]==\"A\"} # la tercera coordenada es águila\n",
    "A_3"
   ]
  },
  {
   "cell_type": "code",
   "execution_count": 59,
   "id": "3d2df1cd-fef2-4118-9e1b-684e29dec5df",
   "metadata": {},
   "outputs": [
    {
     "data": {
      "text/plain": [
       "{('A', 'A', 'A')}"
      ]
     },
     "execution_count": 59,
     "metadata": {},
     "output_type": "execute_result"
    }
   ],
   "source": [
    "# Vamos a crear el evento A \n",
    "A = A_1.intersection(A_2.intersection(A_3))\n",
    "A"
   ]
  },
  {
   "cell_type": "code",
   "execution_count": 61,
   "id": "1e85025c-737d-4d29-b537-ad1c974dc245",
   "metadata": {},
   "outputs": [
    {
     "data": {
      "text/plain": [
       "1"
      ]
     },
     "execution_count": 61,
     "metadata": {},
     "output_type": "execute_result"
    }
   ],
   "source": [
    "len(A)"
   ]
  },
  {
   "cell_type": "code",
   "execution_count": 63,
   "id": "a9befcc4-9965-4dc1-8889-085a245bd099",
   "metadata": {},
   "outputs": [
    {
     "data": {
      "text/plain": [
       "0.125"
      ]
     },
     "execution_count": 63,
     "metadata": {},
     "output_type": "execute_result"
    }
   ],
   "source": [
    "# Vamos a calcular la probabilidad de A\n",
    "P_A = len(A) / len(Omega)\n",
    "P_A"
   ]
  },
  {
   "cell_type": "markdown",
   "id": "cd54a257-0e41-44ee-9304-f72ba089cbc0",
   "metadata": {},
   "source": [
    "Yo quiero expresar mi resultado en fracción, esto se hace de la siguiente manera:"
   ]
  },
  {
   "cell_type": "code",
   "execution_count": 66,
   "id": "d21ade82-1215-42ea-92b3-9752417cb12f",
   "metadata": {},
   "outputs": [],
   "source": [
    "from fractions import Fraction\n",
    "\n",
    "def p(E,Omega):\n",
    "    p = Fraction(len(E),len(Omega))\n",
    "    return p"
   ]
  },
  {
   "cell_type": "code",
   "execution_count": 68,
   "id": "a78c395c-e87e-43da-83b1-ff947082d4f6",
   "metadata": {},
   "outputs": [
    {
     "data": {
      "text/plain": [
       "Fraction(1, 8)"
      ]
     },
     "execution_count": 68,
     "metadata": {},
     "output_type": "execute_result"
    }
   ],
   "source": [
    "prob = p(A,Omega)\n",
    "prob"
   ]
  },
  {
   "cell_type": "markdown",
   "id": "287860b9-7695-44b7-9a78-ff096d4508e2",
   "metadata": {},
   "source": [
    "### Ejemplo 2"
   ]
  },
  {
   "cell_type": "markdown",
   "id": "f10e6880-e134-4d25-9a8d-d8c34e256301",
   "metadata": {},
   "source": [
    "Considere el problema de seleccionar dos solicitantes para un trabajo, de un grupo de cinco \n",
    "solicitantes e imagine que éstos varían en grado de competencia, 1 siendo el mejor, 2 el segundo mejor y así sucesivamente para 3, 4 y 5. Estas clasificaciones son por supuesto desconocidas para el empleador. Definamos dos eventos A y B como:\n",
    "A: El empleador selecciona al mejor y a uno de los dos solicitantes menos aptos (1 y 4 o \n",
    "1 y 5).\n",
    "B: El empleador selecciona al menos uno de los dos mejores.\n",
    "Encuentre las probabilidades de estos eventos. (Mendenhall,2009)"
   ]
  },
  {
   "cell_type": "markdown",
   "id": "b4fe1139-80e4-48b9-b0d2-d9c3d2f3b90e",
   "metadata": {},
   "source": [
    "### Solución"
   ]
  },
  {
   "cell_type": "code",
   "execution_count": 74,
   "id": "d1a138b5-9b22-4c3a-86c7-d95f7179bc69",
   "metadata": {},
   "outputs": [
    {
     "name": "stdout",
     "output_type": "stream",
     "text": [
      "Total de combinaciones posibles: 10\n",
      "Casos favorables a A: 2\n",
      "Probabilidad de A: 0.2000\n",
      "Casos favorables a B: 7\n",
      "Probabilidad de B: 0.7000\n"
     ]
    }
   ],
   "source": [
    "from itertools import combinations\n",
    "\n",
    "# Lista de solicitantes por su competencia (1 = mejor, 5 = peor)\n",
    "solicitantes = [1, 2, 3, 4, 5]\n",
    "\n",
    "# Generar todas las combinaciones posibles de 2 solicitantes\n",
    "todas_las_combinaciones = list(combinations(solicitantes, 2))\n",
    "\n",
    "total_combinaciones = len(todas_las_combinaciones)\n",
    "casos_A = 0\n",
    "casos_B = 0\n",
    "\n",
    "for combo in todas_las_combinaciones:\n",
    "    s1, s2 = combo\n",
    "    seleccion = set(combo)\n",
    "\n",
    "    # Evento A: se selecciona al mejor (1) y a uno de los dos menos aptos (4 o 5)\n",
    "    if 1 in seleccion and (4 in seleccion or 5 in seleccion):\n",
    "        casos_A += 1\n",
    "\n",
    "    # Evento B: se selecciona al menos uno de los dos mejores (1 o 2)\n",
    "    if 1 in seleccion or 2 in seleccion:\n",
    "        casos_B += 1\n",
    "\n",
    "# Calcular probabilidades\n",
    "prob_A = casos_A / total_combinaciones\n",
    "prob_B = casos_B / total_combinaciones\n",
    "\n",
    "print(f\"Total de combinaciones posibles: {total_combinaciones}\")\n",
    "print(f\"Casos favorables a A: {casos_A}\")\n",
    "print(f\"Probabilidad de A: {prob_A:.4f}\")\n",
    "print(f\"Casos favorables a B: {casos_B}\")\n",
    "print(f\"Probabilidad de B: {prob_B:.4f}\")\n"
   ]
  },
  {
   "cell_type": "markdown",
   "id": "2236daee-9a5f-4cb1-9d25-8e8d1f6e9db3",
   "metadata": {},
   "source": [
    "## 1.1.2 Eventos\n",
    "\n",
    "En teoría de la probabilidad, llamaremos evento o suceso a cualquier subconjunto del espacio muestral. \n",
    "\n",
    "Ejemplo:\n",
    "\n",
    "Si un experimento aleatorio consiste en lanzar un dado y observar el número que aparece en la cara superior, entonces claramente\n",
    "el espacio muestral es el conjunto $\\Omega$ $[ 1, 2, 3, 4, 5, 6]$. Como ejemplo de un evento para este experimento podemos definir el conjunto $A= [2, 4, 6]$ que corresponde al suceso de obtener como resultado un número par. Si al lanzar el dado una vez se obtiene el número $4$, decimos entonces que se\n",
    "observó la ocurrencia del evento $A$. [Mendenhall,"
   ]
  },
  {
   "cell_type": "markdown",
   "id": "df935012-0b57-44c0-9d64-5849cb45e1dd",
   "metadata": {},
   "source": [
    "\n",
    "## 1.1.3 Conjuntos\n"
   ]
  },
  {
   "attachments": {
    "b3fc0eb8-cf9e-4366-9cbb-1b4e8106703f.png": {
     "image/png": "[encoded data removed]"
    },
    "eb893363-58ad-46a4-b234-418072636300.png": {
     "image/png": "[encoded data removed]"
    }
   },
   "cell_type": "markdown",
   "id": "49ce2a38-52c8-4d18-ab13-3b583d91f1e8",
   "metadata": {},
   "source": [
    "\n",
    "\n",
    "\n",
    "Pueden obtenerse nuevos conjuntos a partir de una colección inicial de eventos además se pueden llevar a cabo algunas operaciones sobre ellos. Consideraremos que estos nuevos conjuntos resultantes son también eventos y deseamos poder calcular su probabilidad.\n",
    "Supondremos que el espacio muestral $\\Omega$ de un experimento aleatorio es una especie de conjunto universal. Al conjunto vacío lo denotaremos, como es usual, por el símbolo $\\varnothing$. Otros símbolos usuales son los de pertenencia ($\\in$) o no pertenencia ($\\notin$) de un elemento en un conjunto, y los de contención ($\\subseteq$, $\\supseteq$) o no contención ($\\nsubseteq$) de un conjunto en otro.\n",
    "\n",
    "Se dice que $A$ es un subconjunto propio de $B$ si $A \\subset B$, es decir, si $A$ está contenido en $B$ pero no es todo $B$. La igualdad de dos conjuntos $A$ y $B$ significa que se cumplen las dos contenciones: $A \\subseteq B$ y $B \\subseteq A$. Por último, si $A$ es un conjunto, denotamos la cardinalidad o número de elementos de ese conjunto por el símbolo $\\#A$.\n",
    "\n",
    "Ahora procederemos a definir algunas operaciones entre conjuntos:Recordamos a continuación\n",
    "las operaciones básicas de unión, intersección, diferencia y complemento. (Mendenhall,2007)\n",
    "![image.png](attachment:eb893363-58ad-46a4-b234-418072636300.png)\n",
    "\n",
    "![image.png](attachment:b3fc0eb8-cf9e-4366-9cbb-1b4e8106703f.png)"
   ]
  },
  {
   "cell_type": "markdown",
   "id": "804ef031-d09a-46f0-8d1b-74287794ed7a",
   "metadata": {},
   "source": [
    "### Ejemplo"
   ]
  },
  {
   "cell_type": "markdown",
   "id": "9620b930-b3b0-48fc-804f-af10064ced43",
   "metadata": {},
   "source": [
    "\n",
    "\n",
    "Suponga que una familia contiene dos hijos de edades diferentes y estamos interesados en el género de estos niños. Denotemos con $ F $ que una hija es mujer y \\( M \\) que el hijo es hombre y denote con un par, por ejemplo \\( F M \\), que el hijo de mayor edad es la niña y el más joven es el niño. \n",
    "\n",
    "Hay cuatro puntos en el conjunto $S $ de posibles observaciones:\n",
    "$\n",
    "S = \\{ FF, FM, MF, MM \\}.\n",
    "$\n",
    "\n",
    "Denote con $ A $ el subconjunto de posibilidades que no contenga hombres; $B $, el subconjunto que contiene dos hombres; y $ C $, el subconjunto que contenga al menos un hombre.\n",
    "\n",
    "\n",
    "  $A = \\{ FF \\} $\n",
    "$B = \\{ MM \\} $\n",
    "  $C = \\{ FM, MF, MM \\} $\n",
    "\n",
    "\n",
    "Operaciones entre conjuntos:\n",
    "\n",
    "\\begin{align*}\n",
    "A \\cap B &= \\varnothing \\\\\n",
    "A \\cup B &= \\{ FF, MM \\} \\\\\n",
    "A \\cap C &= \\varnothing \\\\\n",
    "A \\cup C &= \\{ FF, FM, MF, MM \\} = S \\\\\n",
    "B \\cap C &= \\{ MM \\} \\\\\n",
    "B \\cup C &= \\{ FM, MF, MM \\}\n",
    "\\end{align*}\n",
    "\n"
   ]
  },
  {
   "cell_type": "markdown",
   "id": "7252c2c8-06d1-4d87-a7b3-d5110804005e",
   "metadata": {},
   "source": [
    "### Solución"
   ]
  },
  {
   "cell_type": "code",
   "execution_count": 83,
   "id": "8feb503c-19bc-4d66-a7ec-29e811e82be1",
   "metadata": {},
   "outputs": [
    {
     "name": "stdout",
     "output_type": "stream",
     "text": [
      "A = {'FF'}\n",
      "B = {'MM'}\n",
      "C = {'MF', 'FM', 'MM'}\n",
      "A ∩ B = set()\n",
      "A ∪ B = {'MM', 'FF'}\n",
      "A ∩ C = set()\n",
      "A ∪ C = {'MF', 'FM', 'MM', 'FF'}\n",
      "B ∩ C = {'MM'}\n",
      "B ∪ C = {'MF', 'FM', 'MM'}\n"
     ]
    }
   ],
   "source": [
    "# Definimos el conjunto de posibles observaciones\n",
    "S = {\"FF\", \"FM\", \"MF\", \"MM\"}\n",
    "\n",
    "# A: subconjunto que no contiene hombres => solo FF\n",
    "A = {\"FF\"}\n",
    "\n",
    "# B: subconjunto que contiene dos hombres => solo MM\n",
    "B = {\"MM\"}\n",
    "\n",
    "# C: subconjunto que contiene al menos un hombre => FM, MF, MM\n",
    "C = {\"FM\", \"MF\", \"MM\"}\n",
    "\n",
    "# Operaciones de conjuntos\n",
    "A_inter_B = A & B\n",
    "A_union_B = A | B\n",
    "A_inter_C = A & C\n",
    "A_union_C = A | C\n",
    "B_inter_C = B & C\n",
    "B_union_C = B | C\n",
    "\n",
    "# Mostrar los resultados\n",
    "print(\"A =\", A)\n",
    "print(\"B =\", B)\n",
    "print(\"C =\", C)\n",
    "print(\"A ∩ B =\", A_inter_B)\n",
    "print(\"A ∪ B =\", A_union_B)\n",
    "print(\"A ∩ C =\", A_inter_C)\n",
    "print(\"A ∪ C =\", A_union_C)\n",
    "print(\"B ∩ C =\", B_inter_C)\n",
    "print(\"B ∪ C =\", B_union_C)\n"
   ]
  },
  {
   "cell_type": "markdown",
   "id": "74866fd8-1b0b-46bc-bd2b-f2ad88365b6c",
   "metadata": {},
   "source": [
    "##  1.1.4 Probabilidad condicional\n",
    "\n",
    "Definimos la probabilidad de que ocurra un evento $A$ sabiendo que ocurre el evento $B$, \n",
    "$$ \\mathbb{P}(A \\mid B) = \\frac{\\mathbb{P}(A \\cap B)}{\\mathbb{P}(B)} = \\frac{\\# A\\cap B}{\\#B} $$\n",
    "donde $\\mathbb{P}(B)>0$. "
   ]
  },
  {
   "cell_type": "markdown",
   "id": "a2773849-bbfe-406d-9ace-d036dcd088ec",
   "metadata": {},
   "source": [
    "## Ejemplos"
   ]
  },
  {
   "cell_type": "markdown",
   "id": "9a71dee8-2faa-4963-b8a8-0c42cefa8e22",
   "metadata": {},
   "source": [
    "\n",
    "\n",
    "Suponga que un dado balanceado se lanza una vez. \n",
    "Definamos los siguientes eventos:\n",
    "\n",
    "$A$: observar un 1.\n",
    "\n",
    "    \n",
    "$B$: observar un número impar.\n",
    "\n",
    "\n",
    "Buscamos la probabilidad de $A$ dado que el evento $B$ ha ocurrido, es decir, $P(A \\mid B)$.\n",
    "\n",
    "El evento $A \\cap B$ representa observar un 1 que también es impar. En este caso, $A \\subset B$, por lo que:\n",
    "\n",
    "$\n",
    "A \\cap B = A, \\quad \\text{y por lo tanto} \\quad P(A \\cap B) = P(A) = \\frac{1}{6}.\n",
    "$\n",
    "\n",
    "También sabemos que hay tres números impares en un dado (1, 3, 5), así que:\n",
    "\n",
    "$\n",
    "P(B) = \\frac{3}{6} = \\frac{1}{2}.\n",
    "$\n",
    "\n",
    "Aplicando la definición de probabilidad condicional:\n",
    "\n",
    "$\n",
    "P(A \\mid B) = \\frac{P(A \\cap B)}{P(B)} = \\frac{\\frac{1}{6}}{\\frac{1}{2}} = \\frac{1}{3}.\n",
    "$\n"
   ]
  },
  {
   "cell_type": "code",
   "execution_count": 15,
   "id": "beb84aa0-c61b-42fe-8046-c213d18e74e0",
   "metadata": {},
   "outputs": [],
   "source": [
    "def prob_cond(E,F):\n",
    "    return len(E & F) / len(F)"
   ]
  },
  {
   "cell_type": "markdown",
   "id": "7c3e9e27-5620-41f0-b0b2-1d79c6da385b",
   "metadata": {},
   "source": [
    "Quiero calcular la probabilidad condicional de los siguientes eventos:\n",
    "* El primer lanzamiento es águila\n",
    "* Dos de los resultados son águila "
   ]
  },
  {
   "cell_type": "code",
   "execution_count": 17,
   "id": "ce4ef43c-74ec-4c2a-b485-ae4a1553e189",
   "metadata": {},
   "outputs": [
    {
     "data": {
      "text/plain": [
       "{('A', 'A', 'A'), ('A', 'A', 'S'), ('A', 'S', 'A'), ('A', 'S', 'S')}"
      ]
     },
     "execution_count": 17,
     "metadata": {},
     "output_type": "execute_result"
    }
   ],
   "source": [
    "# El primer lanzamiento es águila\n",
    "B = { om for om in Omega if om[0]==\"A\"} # el primer lanzamiento es águila\n",
    "B"
   ]
  },
  {
   "cell_type": "code",
   "execution_count": 18,
   "id": "9a4bb72c-b3fc-44a8-9de4-9f8922ea4863",
   "metadata": {},
   "outputs": [
    {
     "data": {
      "text/plain": [
       "{('A', 'A', 'S'), ('A', 'S', 'A'), ('S', 'A', 'A')}"
      ]
     },
     "execution_count": 18,
     "metadata": {},
     "output_type": "execute_result"
    }
   ],
   "source": [
    "C = { om for om in Omega if om.count(\"A\")==2}\n",
    "C"
   ]
  },
  {
   "cell_type": "code",
   "execution_count": 19,
   "id": "79783de8-4996-47ca-8c7b-998cc0a3cb0b",
   "metadata": {},
   "outputs": [],
   "source": [
    "def prob(E): \n",
    "    return len(E) / len(Omega)"
   ]
  },
  {
   "cell_type": "code",
   "execution_count": 20,
   "id": "caa6fda2-baf4-490d-96fe-e7be23ae77dd",
   "metadata": {},
   "outputs": [
    {
     "data": {
      "text/plain": [
       "0.5"
      ]
     },
     "execution_count": 20,
     "metadata": {},
     "output_type": "execute_result"
    }
   ],
   "source": [
    "prob(B)"
   ]
  },
  {
   "cell_type": "code",
   "execution_count": 21,
   "id": "497b8715-04b0-42ba-8f3a-5fdeb0d553d2",
   "metadata": {},
   "outputs": [
    {
     "data": {
      "text/plain": [
       "0.375"
      ]
     },
     "execution_count": 21,
     "metadata": {},
     "output_type": "execute_result"
    }
   ],
   "source": [
    "prob(C)"
   ]
  },
  {
   "cell_type": "code",
   "execution_count": 22,
   "id": "397f3acb-4b48-4474-bc5e-04803d6399f3",
   "metadata": {},
   "outputs": [
    {
     "data": {
      "text/plain": [
       "0.6666666666666666"
      ]
     },
     "execution_count": 22,
     "metadata": {},
     "output_type": "execute_result"
    }
   ],
   "source": [
    "prob_cond(B,C)"
   ]
  },
  {
   "cell_type": "markdown",
   "id": "4c0d62c6-a153-4797-928b-07eca306d656",
   "metadata": {},
   "source": [
    "### Ejemplo"
   ]
  },
  {
   "cell_type": "markdown",
   "id": "e7e10713-755c-4bf3-a50c-bd61bacf2a6d",
   "metadata": {},
   "source": [
    "Una población de electores contiene 40% de republicanos y 60% de demócratas. Se publica que 30% de \n",
    "los republicanos y 70% de los demócratas están a favor de un tema de elección. Se encuentra que una \n",
    "persona seleccionada al azar de esta población está a favor del tema en cuestión. Encuentre la probabilidad condicional de que esta persona sea un demócrata. (Mendenhall, 2009)"
   ]
  },
  {
   "cell_type": "markdown",
   "id": "4e694560-d291-4238-ae4f-61c156a48812",
   "metadata": {},
   "source": [
    "### Solución"
   ]
  },
  {
   "cell_type": "code",
   "execution_count": 94,
   "id": "beaf2567-4ef3-459a-a3bb-62bb3666f748",
   "metadata": {},
   "outputs": [
    {
     "name": "stdout",
     "output_type": "stream",
     "text": [
      "La probabilidad de que sea demócrata dado que está a favor es: 0.7778\n"
     ]
    }
   ],
   "source": [
    "def probabilidad_total(p_f_d, p_d, p_f_r, p_r):\n",
    "    \"\"\"Calcula la probabilidad total de estar a favor del tema (P(F))\"\"\"\n",
    "    return p_f_d * p_d + p_f_r * p_r\n",
    "\n",
    "def probabilidad_condicional(p_f_d, p_d, p_f_total):\n",
    "    \"\"\"Aplica el Teorema de Bayes para calcular P(D|F)\"\"\"\n",
    "    return (p_f_d * p_d) / p_f_total\n",
    "\n",
    "# Datos del problema\n",
    "p_r = 0.4      # P(R)\n",
    "p_d = 0.6      # P(D)\n",
    "p_f_r = 0.3    # P(F|R)\n",
    "p_f_d = 0.7    # P(F|D)\n",
    "\n",
    "# Cálculos\n",
    "p_f_total = probabilidad_total(p_f_d, p_d, p_f_r, p_r)\n",
    "p_d_given_f = probabilidad_condicional(p_f_d, p_d, p_f_total)\n",
    "\n",
    "# Resultado\n",
    "print(f\"La probabilidad de que sea demócrata dado que está a favor es: {p_d_given_f:.4f}\")\n"
   ]
  },
  {
   "cell_type": "markdown",
   "id": "70210fb0-52c2-43f4-8307-4a361afaec1d",
   "metadata": {},
   "source": [
    "## 1.1.4 Independencia de eventos\n",
    "\n",
    "Decimos que dos eventos $A$ y $B$ son independientes si\n",
    "$$ \\mathbb{P}(A\\cap B) = \\mathbb{P}(A)\\mathbb{P}(B)$$\n",
    "o de manera equivalente\n",
    "$$ \\mathbb{P}(A | B ) = \\mathbb{P}(A) $$"
   ]
  },
  {
   "cell_type": "code",
   "execution_count": 24,
   "id": "c93e040a-a312-4282-88e3-e40b83fc5b73",
   "metadata": {},
   "outputs": [],
   "source": [
    "def indep(E,F):\n",
    "    return prob(E & F) == prob(E)*prob(F)"
   ]
  },
  {
   "cell_type": "code",
   "execution_count": 25,
   "id": "a6f68f77-d64b-41ef-b0c1-0972170e5c53",
   "metadata": {},
   "outputs": [
    {
     "data": {
      "text/plain": [
       "False"
      ]
     },
     "execution_count": 25,
     "metadata": {},
     "output_type": "execute_result"
    }
   ],
   "source": [
    "indep(B,C)"
   ]
  },
  {
   "cell_type": "markdown",
   "id": "7b7eb4fe-0c7e-49ab-b6c1-172921670c3e",
   "metadata": {},
   "source": [
    "Vamos a considerar el evento:\n",
    "* $D$: en el segundo lanzamiento es sol"
   ]
  },
  {
   "cell_type": "code",
   "execution_count": 27,
   "id": "9dec2962-4089-4f30-b590-7016b18554b2",
   "metadata": {},
   "outputs": [
    {
     "data": {
      "text/plain": [
       "{('A', 'S', 'A'), ('A', 'S', 'S'), ('S', 'S', 'A'), ('S', 'S', 'S')}"
      ]
     },
     "execution_count": 27,
     "metadata": {},
     "output_type": "execute_result"
    }
   ],
   "source": [
    "D = { om for om in Omega if om[1]==\"S\"}\n",
    "D"
   ]
  },
  {
   "cell_type": "code",
   "execution_count": 28,
   "id": "0926a76f-9b09-4ab8-9f77-df2b1b199729",
   "metadata": {},
   "outputs": [
    {
     "data": {
      "text/plain": [
       "0.5"
      ]
     },
     "execution_count": 28,
     "metadata": {},
     "output_type": "execute_result"
    }
   ],
   "source": [
    "prob(D)"
   ]
  },
  {
   "cell_type": "code",
   "execution_count": 29,
   "id": "6d286f4c-53dc-42c7-ae18-876b2a4e8598",
   "metadata": {},
   "outputs": [
    {
     "data": {
      "text/plain": [
       "0.5"
      ]
     },
     "execution_count": 29,
     "metadata": {},
     "output_type": "execute_result"
    }
   ],
   "source": [
    "prob_cond(B,D)"
   ]
  },
  {
   "cell_type": "code",
   "execution_count": 30,
   "id": "ae753237-681d-4814-a52c-c6e144aeff23",
   "metadata": {},
   "outputs": [
    {
     "data": {
      "text/plain": [
       "True"
      ]
     },
     "execution_count": 30,
     "metadata": {},
     "output_type": "execute_result"
    }
   ],
   "source": [
    "indep(B,D)"
   ]
  },
  {
   "cell_type": "markdown",
   "id": "2e825327-e276-41ab-8060-74ea018b2795",
   "metadata": {},
   "source": [
    "Quiero verificar si $B$, $C$ y $D$ son independientes:"
   ]
  },
  {
   "cell_type": "code",
   "execution_count": 32,
   "id": "a6e1cd15-f8a0-4e65-a702-b193465a6d46",
   "metadata": {},
   "outputs": [
    {
     "data": {
      "text/plain": [
       "True"
      ]
     },
     "execution_count": 32,
     "metadata": {},
     "output_type": "execute_result"
    }
   ],
   "source": [
    "indep(B,D)"
   ]
  },
  {
   "cell_type": "code",
   "execution_count": 33,
   "id": "932765f3-9213-4bd0-8a9e-2297a1930cdb",
   "metadata": {},
   "outputs": [
    {
     "data": {
      "text/plain": [
       "False"
      ]
     },
     "execution_count": 33,
     "metadata": {},
     "output_type": "execute_result"
    }
   ],
   "source": [
    "indep(C,D)"
   ]
  },
  {
   "cell_type": "code",
   "execution_count": 34,
   "id": "9ce5f203-98f5-4f7d-9ab1-e3b7ecf4321c",
   "metadata": {},
   "outputs": [
    {
     "data": {
      "text/plain": [
       "False"
      ]
     },
     "execution_count": 34,
     "metadata": {},
     "output_type": "execute_result"
    }
   ],
   "source": [
    "indep(B,C)"
   ]
  },
  {
   "cell_type": "markdown",
   "id": "9924a382-4b17-4c26-a35f-ad057f797f3d",
   "metadata": {},
   "source": [
    "Por lo tanto, los eventos no son independientes. "
   ]
  },
  {
   "cell_type": "markdown",
   "id": "b668990b-e924-412f-b5e4-4ef27e5b2072",
   "metadata": {},
   "source": [
    "**EJEMPLO** Sea el experimento aleatorio de lanzar un dado dos veces. Sabemos que el espacio muestral es el siguiente:\n",
    "$$ \\Omega = \\{ (i,j) | i,j \\in \\{1,2,3,4,5,6 \\} \\} = \\{1,2,3,4,5,6 \\} \\times \\{1,2,3,4,5,6 \\} = \\{1,2,3,4,5,6 \\}^2$$ \n",
    "y además $\\#\\Omega = 6^2 = 36$"
   ]
  },
  {
   "cell_type": "code",
   "execution_count": 81,
   "id": "800de47d-67c1-427b-b04e-50a7a6cdf251",
   "metadata": {},
   "outputs": [
    {
     "data": {
      "text/plain": [
       "{(1, 1),\n",
       " (1, 2),\n",
       " (1, 3),\n",
       " (1, 4),\n",
       " (1, 5),\n",
       " (1, 6),\n",
       " (2, 1),\n",
       " (2, 2),\n",
       " (2, 3),\n",
       " (2, 4),\n",
       " (2, 5),\n",
       " (2, 6),\n",
       " (3, 1),\n",
       " (3, 2),\n",
       " (3, 3),\n",
       " (3, 4),\n",
       " (3, 5),\n",
       " (3, 6),\n",
       " (4, 1),\n",
       " (4, 2),\n",
       " (4, 3),\n",
       " (4, 4),\n",
       " (4, 5),\n",
       " (4, 6),\n",
       " (5, 1),\n",
       " (5, 2),\n",
       " (5, 3),\n",
       " (5, 4),\n",
       " (5, 5),\n",
       " (5, 6),\n",
       " (6, 1),\n",
       " (6, 2),\n",
       " (6, 3),\n",
       " (6, 4),\n",
       " (6, 5),\n",
       " (6, 6)}"
      ]
     },
     "execution_count": 81,
     "metadata": {},
     "output_type": "execute_result"
    }
   ],
   "source": [
    "Omega_dado =  set( product([1,2,3,4,5,6],repeat=2 )) \n",
    "Omega_dado"
   ]
  },
  {
   "cell_type": "code",
   "execution_count": 83,
   "id": "09d06f20-69ba-4d30-b2ad-1312f40ca58e",
   "metadata": {},
   "outputs": [
    {
     "data": {
      "text/plain": [
       "36"
      ]
     },
     "execution_count": 83,
     "metadata": {},
     "output_type": "execute_result"
    }
   ],
   "source": [
    "cardOm = len(Omega_dado)\n",
    "cardOm"
   ]
  },
  {
   "cell_type": "markdown",
   "id": "ae1e04c1-6e96-4770-b6fd-aff5822b3702",
   "metadata": {},
   "source": [
    "Definimos el evento:\n",
    "* $S_n$: la suma de los dados en $n$\n",
    "y escrito como conjunto es\n",
    "$$ S_n = \\{ (i,j)\\in\\Omega \\mid i+j = n \\}$$"
   ]
  },
  {
   "cell_type": "code",
   "execution_count": 85,
   "id": "6814536b-69ab-4bac-bb1a-437a447aa93f",
   "metadata": {},
   "outputs": [],
   "source": [
    "def S(n): \n",
    "    Sn = { (i,j) for i in range(1,7) for j in range(1,7) if i+j == n }\n",
    "    return Sn"
   ]
  },
  {
   "cell_type": "code",
   "execution_count": 91,
   "id": "9cbbef8a-f404-4755-b9a6-262817a5f297",
   "metadata": {},
   "outputs": [],
   "source": [
    "S_nueve = S(9)\n",
    "S_nueve\n"
   ]
  },
  {
   "cell_type": "code",
   "execution_count": 95,
   "id": "f91b63ec-143f-4655-9b25-4f8e80d8217f",
   "metadata": {},
   "outputs": [
    {
     "data": {
      "text/plain": [
       "0.1111111111111111"
      ]
     },
     "execution_count": 95,
     "metadata": {},
     "output_type": "execute_result"
    }
   ],
   "source": [
    "len(S_nueve) / cardOm"
   ]
  },
  {
   "cell_type": "markdown",
   "id": "943998ac-1712-43b9-bc2e-697a6b4d5ba2",
   "metadata": {},
   "source": [
    "$$ \\mathbb{P}(S(9)) = 4/36 $$"
   ]
  },
  {
   "cell_type": "markdown",
   "id": "abcf7335-edaa-434e-862e-170cafd5ac1c",
   "metadata": {},
   "source": [
    "### Ejemplo 2\n",
    "\n",
    "\n",
    "Tres marcas de café, X, Y y Z, van a ser clasificadas por un juez de acuerdo con su sabor. Defina los siguientes eventos:\n",
    "\n",
    "\n",
    "- A: La marca X es preferida a la Y.\n",
    " \n",
    "- B: La marca X es clasificada como la mejor.\n",
    " \n",
    "-  C: La marca X es clasificada como la segunda mejor.\n",
    " \n",
    "- D: La marca X es clasificada como la tercera mejor.\n",
    "\n",
    "Si el juez no tiene preferencia por el sabor y asigna el lugar a las marcas al azar, ¿el evento A es independiente de los eventos B, C y D?\n",
    "\n"
   ]
  },
  {
   "cell_type": "markdown",
   "id": "5103f7b9-5cad-44b2-bb99-2b681d120d98",
   "metadata": {},
   "source": [
    "### Solución\n",
    "\n",
    "\n",
    "Los seis puntos muestrales igualmente probables para este experimento están dados por las siguientes permutaciones de las marcas:\n",
    "\n",
    "$\n",
    "E_1 : XYZ, \\quad E_2 : XZY, \\quad E_3 : YXZ, \\quad E_4 : YZX, \\quad E_5 : ZXY, \\quad E_6 : ZYX\n",
    "$\n",
    "\n",
    "donde $ X, Y, Z $ denotan que X es clasificada como la mejor, $Y$ es la segunda mejor y $Z$ la última. Entonces, los eventos son los siguientes:\n",
    "\n",
    "$\n",
    "A = \\{ E_1, E_2, E_5 \\}, \\quad B = \\{ E_1, E_2 \\}, \\quad C = \\{ E_3, E_5 \\}, \\quad D = \\{ E_4, E_6 \\}\n",
    "$\n",
    "\n",
    "Calculamos las probabilidades de cada evento:\n",
    "\n",
    "$\n",
    "P(A) = \\frac{3}{6} = \\frac{1}{2}, \\quad P(B) = \\frac{2}{6} = \\frac{1}{3}, \\quad P(C) = \\frac{2}{6} = \\frac{1}{3}, \\quad P(D) = \\frac{2}{6} = \\frac{1}{3}\n",
    "$\n",
    "\n",
    "Ahora, calculamos las probabilidades de las intersecciones de los eventos:\n",
    "\n",
    "$\n",
    "P(A \\cap B) = \\frac{2}{6} = \\frac{1}{3}, \\quad P(A \\cap C) = \\frac{1}{6}, \\quad P(A \\cap D) = 0\n",
    "$\n",
    "\n",
    "Finalmente, verificamos la independencia de los eventos:\n",
    "\n",
    "- A y B\n",
    "Queremos verificar si $ P(A \\cap B) = P(A) \\cdot P(B) $:\n",
    "\n",
    "$\n",
    "P(A \\cap B) = \\frac{1}{3}, \\quad P(A) \\cdot P(B) = \\frac{1}{2} \\cdot \\frac{1}{3} = \\frac{1}{6}\n",
    "$\n",
    "\n",
    "Como $ P(A \\cap B) \\neq P(A) \\cdot P(B) $, los eventos A y B son dependientes.\n",
    "\n",
    "- A y C\n",
    "Queremos verificar si $ P(A \\cap C) = P(A) \\cdot P(C) $:\n",
    "\n",
    "$\n",
    "P(A \\cap C) = \\frac{1}{6}, \\quad P(A) \\cdot P(C) = \\frac{1}{2} \\cdot \\frac{1}{3} = \\frac{1}{6}\n",
    "$\n",
    "\n",
    "Como $ P(A \\cap C) = P(A) \\cdot P(C) $, los eventos A y C son independientes.\n",
    "\n",
    "- A y D\n",
    "Queremos verificar si $ P(A \\cap D) = P(A) \\cdot P(D) $:\n",
    "\n",
    "$\n",
    "P(A \\cap D) = 0, \\quad P(A) \\cdot P(D) = \\frac{1}{2} \\cdot \\frac{1}{3} = \\frac{1}{6}\n",
    "$\n",
    "\n",
    "Como $ P(A \\cap D) \\neq P(A) \\cdot P(D) $, los eventos A y D son dependientes.\n",
    "\n",
    "### Conclusión \n",
    "\n",
    "- Los eventos A y B son dependientes.\n",
    "- Los eventos A y C son independientes.\n",
    "- Los eventos A y D son dependientes.\n",
    "\n",
    "\n",
    "\n"
   ]
  },
  {
   "cell_type": "markdown",
   "id": "e229528d-f8ee-46a6-9fc1-90f3e5aadd0e",
   "metadata": {
    "jp-MarkdownHeadingCollapsed": true
   },
   "source": [
    "# -------------------------------\n",
    "## 1.2 Probabilidad Geométrica\n",
    "# -------------------------------"
   ]
  },
  {
   "cell_type": "markdown",
   "id": "3d6cf24b-8e25-4434-a19b-c909ea1a208e",
   "metadata": {},
   "source": [
    "Esta es una extensión de la definición de probabilidad clásica, en donde ahora la probabilidad de un evento se calcula ya no a través de su cardinalidad,\n",
    "sino mediante la determinación de su área, volumén o alguna característica geométrica equivalente, según el problema que se trate. Para el caso de áreas\n",
    "la definición es la siguiente."
   ]
  },
  {
   "cell_type": "markdown",
   "id": "33aa8072-1e11-475a-8c94-0f2d7f1df903",
   "metadata": {},
   "source": [
    "\n",
    "Si un experimento aleatorio tiene como espacio muestral $\\Omega \\subset \\mathbb{R}^2$, cuya área está bien definida y es finita, entonces se define la probabilidad geométrica de un evento $A \\subseteq \\Omega$ como\n",
    "$\n",
    "P(A) = \\frac{\\text{Área de } A}{\\text{Área de } \\Omega},\n",
    "$\n",
    "cuando el concepto de área del subconjunto $A$ está bien definido. (Rincón,2014)\n",
    "\n",
    "Para poder aplicar la fórmula anterior, es necesario suponer que el espacio muestral es equiprobable en el sentido de que la probabilidad de observar la\n",
    "ocurrencia de un evento A depende únicamente de su área y no del conjunto mismo. Esta definición puede enunciarse también para el caso cuando $\\Omega$ es un subconjunto de $R$, y en tal caso se habla de longitud, o bien cuando $\\Omega$ es un subconjunto de $R3$ se habla de volumen, etcétera. \n",
    "\n",
    "\n"
   ]
  },
  {
   "cell_type": "markdown",
   "id": "3e400981-aa05-4940-8810-7442cbd61ff5",
   "metadata": {},
   "source": [
    "## El problema del encuentro "
   ]
  },
  {
   "cell_type": "markdown",
   "id": "1e1dd497-287d-4b9e-8e72-f99cbc883e39",
   "metadata": {},
   "source": [
    "Romeo y Julieta pretenden encontrarse en un lugar específico entree $[0,60]$.\n",
    "\n",
    "- Si Romeo llega primero, entonces piensa esperar 10 minutos\n",
    "- Si Julieta llega primero, entonces piensa esperar 10 minutos\n",
    "\n",
    "Se elige un número al azar entre $0$ y $60$, y supongamos que el par de números se eñige sobre el cuadrado $60^2$, de modo que la probabilidad de un evento, sea el área favorable entre el área total.\n",
    "\n",
    "Sea el evento \n",
    "- $A$: Romeo y Julieta se encuentran a una distancia de $10$ minutos. "
   ]
  },
  {
   "cell_type": "code",
   "execution_count": 4,
   "id": "4e807c9c-1829-474d-9838-2d23df47dd8b",
   "metadata": {
    "scrolled": true
   },
   "outputs": [
    {
     "name": "stdout",
     "output_type": "stream",
     "text": [
      "La probabilidad del evento A es: 0.305662.\n"
     ]
    },
    {
     "data": {
      "image/png": "[encoded data removed]",
      "text/plain": [
       "<Figure size 640x480 with 1 Axes>"
      ]
     },
     "metadata": {},
     "output_type": "display_data"
    }
   ],
   "source": [
    "import matplotlib.pyplot as plt\n",
    "import numpy as np\n",
    "\n",
    "# Vamos a generar 100,000 simulaciones\n",
    "muestra = 1000000\n",
    "\n",
    "# Generamos los tiempos aleatorios entre [0,60]\n",
    "# x : tiempo de llegada de Romero [0,60]\n",
    "# y : tiempo de llegada de Romero [0,60]\n",
    "\n",
    "x,y = np.random.uniform(0,60,muestra), np.random.uniform(0,60,muestra)\n",
    "\n",
    "# Vamos a añadir nuestra condición de encuentro \n",
    "encuentro = np.where(abs(x-y)<=10, 'r', 'b') # r si se encuentran y b si no se encuentran\n",
    "\n",
    "# Calculo de la probabilidad del encuentro\n",
    "k=0\n",
    "for elemento in encuentro:\n",
    "    if elemento == 'r':\n",
    "        k += 1\n",
    "\n",
    "print(\"La probabilidad del evento A es: {}.\".format(k/muestra))\n",
    "\n",
    "plt.scatter(x,y,c=encuentro,s=1)\n",
    "plt.show()"
   ]
  },
  {
   "attachments": {
    "23ca5565-620a-4586-a70f-915c614ac82e.png": {
     "image/png": "[encoded data removed]"
    }
   },
   "cell_type": "markdown",
   "id": "2f47aa1b-a77a-4e19-a690-c581fa522f55",
   "metadata": {},
   "source": [
    " ### El problema del juego de una feria)\n",
    "El juego de una feria consiste en lanzar monedas de radio r sobre un tablero cuadriculado\n",
    "como el que se muestra a continuación:\n",
    "![image.png](attachment:23ca5565-620a-4586-a70f-915c614ac82e.png)\n",
    "\n",
    "\n",
    "\n",
    "\n",
    "\n",
    "En donde el lado de cada cuadrado\n",
    "mide a unidades. Un jugador se hace acreedor a un premio si la moneda\n",
    "lanzada no toca ninguna de las líneas. ¿De qué tamaño deben ser $a$ y $r$ para\n",
    "que la probabilidad de ganar en este juego sea menor a $\\frac{1}{4}$?"
   ]
  },
  {
   "cell_type": "markdown",
   "id": "0bb27083-0109-4436-86eb-1c25f19b06f6",
   "metadata": {},
   "source": [
    "### Solución \n",
    "\n",
    "Primero debemos observar que es suficiente considerar lo que sucede únicamente en el cuadrado donde cae el centro de la moneda.\n",
    "\n",
    "No es difícil darse cuenta que la moneda no toca ninguna línea si su centro cae dentro del cuadrado interior que se muestra en la Figura \n",
    "\n",
    "Por lo tanto, si $ A $ denota el evento de ganar con un lanzamiento en este juego, entonces la probabilidad de $ A $ es el cociente entre el área favorable y el área total:\n",
    "\n",
    "$\n",
    "P(A) = \\frac{(a - 2r)^2}{a^2} = \\left(1 - \\frac{2r}{a}\\right)^2\n",
    "$\n",
    "\n",
    "Donde:\n",
    "\n",
    "\n",
    "$ a $: longitud del lado del cuadrado\n",
    " $ r $: radio de la moneda\n",
    "\n",
    "\n",
    "Si deseamos que esta probabilidad sea menor que $ \\frac{1}{4} $, entonces:\n",
    "\n",
    "$\n",
    "\\left(1 - \\frac{2r}{a}\\right)^2 < \\frac{1}{4}\n",
    "$\n",
    "\n",
    "Desarrollando esta desigualdad:\n",
    "\n",
    "$\n",
    "1 - \\frac{2r}{a} < \\frac{1}{2}\n",
    "\\quad \\Rightarrow \\quad\n",
    "\\frac{2r}{a} > \\frac{1}{2}\n",
    "\\quad \\Rightarrow \\quad\n",
    "a < 4r\n",
    "$\n",
    "\n",
    "\n",
    "\n",
    "Por lo tanto, para que la probabilidad de ganar sea menor que $ \\frac{1}{4} $, se debe cumplir la condición:\n",
    "\n",
    "$\n",
    "a < 4r\n",
    "$\n",
    "\n",
    "\n",
    "Cuando $a = 4r $, la probabilidad de ganar es exactamente:\n",
    "\n",
    "$\n",
    "\\left(1 - \\frac{2r}{a} \\right)^2 = \\left(1 - \\frac{1}{2} \\right)^2 = \\left( \\frac{1}{2} \\right)^2 = \\frac{1}{4}\n",
    "$\n",
    "\n",
    "### Conclusión\n",
    "\n",
    "La condición para que la probabilidad de ganar en este juego sea menor que $ \\frac{1}{4}$ es:\n",
    "\n",
    "$\n",
    "\\boxed{a < 4r}\n",
    "$\n",
    "\n"
   ]
  },
  {
   "cell_type": "markdown",
   "id": "eba1ab46-757c-4f9b-8d87-4c21342cc274",
   "metadata": {
    "jp-MarkdownHeadingCollapsed": true
   },
   "source": [
    "# ----------------------------------\n",
    "## 1.3 Probabilidad Frecuentista\n",
    "# ----------------------------------"
   ]
  },
  {
   "cell_type": "markdown",
   "id": "ca1a9283-5007-4d17-807b-62b4b161f73d",
   "metadata": {},
   "source": [
    "\n",
    "\n",
    "\n",
    "Suponga que se realizan $n$ repeticiones de un cierto experimento aleatorio y que se registra el número de veces que ocurre un determinado evento $A$. Esta información puede ser usada de la siguiente forma para definir la probabilidad de $A$.\n",
    "\n",
    "Sea $n_A$ el número de ocurrencias del evento $A$ en $n$ realizaciones del experimento aleatorio. La probabilidad frecuentista del evento $A$ se define como el límite:\n",
    "\n",
    "$\n",
    "P(A) = \\lim_{n \\to \\infty} \\frac{n_A}{n}\n",
    "$\n",
    "\n",
    "(Rincón,2014)\n",
    "\n",
    "Otra definición que se tiene es partiendo de la hipótesis de que el espacio muestral es un conjunto finito, y podemos definir la probabilidad asociada a un evento $A$:\n",
    "\n",
    "$$ f_n(A) = \\frac{n(A)}{n}, $$\n",
    "donde $n(A)$ denota al número de veces que ocurre $A$, y $n$ es el número de veces en que se realiza el experimento."
   ]
  },
  {
   "cell_type": "markdown",
   "id": "d6471de4-e091-444d-92b9-3611af525259",
   "metadata": {},
   "source": [
    "## Ejemplo"
   ]
  },
  {
   "cell_type": "code",
   "execution_count": 56,
   "id": "a0d3fdb6-f609-48c0-9875-792bcce2d844",
   "metadata": {},
   "outputs": [],
   "source": [
    "import random "
   ]
  },
  {
   "cell_type": "markdown",
   "id": "7142977e-f7be-4b16-a41f-23112369a54a",
   "metadata": {},
   "source": [
    "Se tiene el lanzamiento de monedas injustas (volados)\n"
   ]
  },
  {
   "cell_type": "code",
   "execution_count": 59,
   "id": "67478450-9fed-4d18-b1ee-910011a013f5",
   "metadata": {},
   "outputs": [],
   "source": [
    "def volado(p):\n",
    "    return 'sol' if random.random() < p else 'aguila'"
   ]
  },
  {
   "cell_type": "code",
   "execution_count": 61,
   "id": "efd0a078-a825-4dff-8078-32fca55d8b4b",
   "metadata": {},
   "outputs": [
    {
     "data": {
      "text/plain": [
       "'aguila'"
      ]
     },
     "execution_count": 61,
     "metadata": {},
     "output_type": "execute_result"
    }
   ],
   "source": [
    "volado(0.4)"
   ]
  },
  {
   "cell_type": "code",
   "execution_count": 63,
   "id": "104fbd66-f3ae-4331-8001-83b0653010d8",
   "metadata": {},
   "outputs": [
    {
     "data": {
      "text/plain": [
       "['aguila',\n",
       " 'aguila',\n",
       " 'aguila',\n",
       " 'aguila',\n",
       " 'sol',\n",
       " 'sol',\n",
       " 'aguila',\n",
       " 'aguila',\n",
       " 'aguila',\n",
       " 'sol']"
      ]
     },
     "execution_count": 63,
     "metadata": {},
     "output_type": "execute_result"
    }
   ],
   "source": [
    "a = [volado(0.4) for i in range(10)]\n",
    "a"
   ]
  },
  {
   "cell_type": "code",
   "execution_count": 65,
   "id": "3b7bca16-a6a4-4d6c-b340-fcf7d4297f3d",
   "metadata": {},
   "outputs": [
    {
     "data": {
      "text/plain": [
       "3"
      ]
     },
     "execution_count": 65,
     "metadata": {},
     "output_type": "execute_result"
    }
   ],
   "source": [
    "a.count(\"sol\")"
   ]
  },
  {
   "cell_type": "code",
   "execution_count": 69,
   "id": "104d64b5-e3bc-4c9c-807c-7bd32794cb56",
   "metadata": {},
   "outputs": [],
   "source": [
    "resultados = [] # lista vacia"
   ]
  },
  {
   "cell_type": "code",
   "execution_count": 71,
   "id": "87a26c6d-1fb6-44f5-b8f4-098a200db48c",
   "metadata": {},
   "outputs": [
    {
     "data": {
      "text/plain": [
       "['sol',\n",
       " 'aguila',\n",
       " 'aguila',\n",
       " 'aguila',\n",
       " 'sol',\n",
       " 'sol',\n",
       " 'aguila',\n",
       " 'aguila',\n",
       " 'aguila',\n",
       " 'sol']"
      ]
     },
     "execution_count": 71,
     "metadata": {},
     "output_type": "execute_result"
    }
   ],
   "source": [
    "for i in range(10):\n",
    "    resultado = volado(0.4)\n",
    "    resultados.append(resultado)\n",
    "resultados"
   ]
  },
  {
   "cell_type": "code",
   "execution_count": 73,
   "id": "22cb8109-e700-4a1e-ab43-ebd9ba1ded2d",
   "metadata": {},
   "outputs": [
    {
     "name": "stdout",
     "output_type": "stream",
     "text": [
      "Probabiliad 0.630\n"
     ]
    }
   ],
   "source": [
    "# Vamos a simular nuestra probabilidad frecuentista\n",
    "p = [] #Lista para almacernar las probabilidades\n",
    "\n",
    "for i in range(1000): #Simula 1000 experimentos\n",
    "    N = 1000 # numero de lanzamientos \n",
    "    resultados = []\n",
    "\n",
    "    for i in range(N):\n",
    "        resultado = volado(0.63)\n",
    "        resultados.append(resultado)\n",
    "\n",
    "    n_soles = resultados.count(\"sol\") # cuenta en número de soles\n",
    "    p_soles = n_soles / N #calcula la proporción\n",
    "\n",
    "    p.append(p_soles)\n",
    "\n",
    "# Probabilidad promedio\n",
    "p_soles_prom = sum(p) / 1000 \n",
    "\n",
    "print(\"Probabiliad {:.3f}\".format(p_soles_prom))   "
   ]
  },
  {
   "cell_type": "markdown",
   "id": "38636a80-128e-49f2-ad57-1a94366ce6b2",
   "metadata": {},
   "source": [
    "### Ejercicio "
   ]
  },
  {
   "cell_type": "markdown",
   "id": "1a2e41f1-ba2b-4e72-b95f-2b34d8d5fa60",
   "metadata": {},
   "source": [
    "\n",
    "Se tienen $2$ urnas, cada una de las cuales contiene $10$ bolas numeradas del $1$ al $10$.\n",
    "\n",
    "Un experimento aleatorio consiste en seleccionar al azar una bola de cada urna.\n",
    "\n",
    "Sea $X$ la variable aleatoria que representa la diferencia de los números de las dos bolas seleccionadas.\n",
    "\n",
    "* Define $\\Omega$\n",
    "* Calcula las probabilidades asociadas\n",
    "* Define la función de densidad\n",
    "* Verifica que $\\sum_{x\\in R_X}f_X(x) = 1$\n",
    "* Gráfica la función de densidad\n",
    "\n",
    "Además, calcula la probabilidad de que los números de las dos bolas seleccionadas difieran por $2$ o más."
   ]
  },
  {
   "cell_type": "markdown",
   "id": "ac7cbb0a-4a8d-476d-ab36-f78b659a05f3",
   "metadata": {},
   "source": [
    "### Solución"
   ]
  },
  {
   "cell_type": "markdown",
   "id": "564fb2be-c752-4493-8065-045f9fbc1bf2",
   "metadata": {},
   "source": [
    "Sea $$\\Omega = \\{ (x,y) | x,y \\in \\{ 1,2,3,4,5,6,7,8,9,10 \\} \\} $$"
   ]
  },
  {
   "cell_type": "code",
   "execution_count": 6,
   "id": "2ecff875-817b-4719-9304-712316205a6a",
   "metadata": {},
   "outputs": [],
   "source": [
    "from itertools import product\n",
    "import numpy as np\n",
    "from fractions import Fraction\n",
    "from collections import defaultdict\n",
    "import pandas as pd"
   ]
  },
  {
   "cell_type": "code",
   "execution_count": 8,
   "id": "285b12b3-8732-4715-a148-8770953822f5",
   "metadata": {},
   "outputs": [],
   "source": [
    "omega = set(product({1,2,3,4,5,6,7,8,9,10},repeat=2))"
   ]
  },
  {
   "cell_type": "code",
   "execution_count": 10,
   "id": "e8b379ab-2f34-4c11-8524-eed526b773e5",
   "metadata": {},
   "outputs": [],
   "source": [
    "def p(a):\n",
    "  p = Fraction(len(a),len(omega))\n",
    "  return p"
   ]
  },
  {
   "cell_type": "code",
   "execution_count": 12,
   "id": "884ffcbe-7345-44a4-a2fe-2b8e38347dd5",
   "metadata": {},
   "outputs": [],
   "source": [
    "s = {(x,y) : x-y for x,y in omega}"
   ]
  },
  {
   "cell_type": "code",
   "execution_count": 14,
   "id": "a2e2f180-da09-4975-b823-0765236df9fe",
   "metadata": {},
   "outputs": [],
   "source": [
    "ds = defaultdict(set)"
   ]
  },
  {
   "cell_type": "code",
   "execution_count": 16,
   "id": "3afdde1c-409f-4817-8a95-d1404b28ba75",
   "metadata": {},
   "outputs": [],
   "source": [
    "for i,j in s.items():\n",
    "  ds[j].add(i)"
   ]
  },
  {
   "cell_type": "code",
   "execution_count": 18,
   "id": "c44c3b7c-f116-4c9c-af4b-6ed2f679dcf4",
   "metadata": {},
   "outputs": [
    {
     "data": {
      "text/plain": [
       "[(-5, {(1, 6), (2, 7), (3, 8), (4, 9), (5, 10)}),\n",
       " (4, {(5, 1), (6, 2), (7, 3), (8, 4), (9, 5), (10, 6)}),\n",
       " (-1,\n",
       "  {(1, 2), (2, 3), (3, 4), (4, 5), (5, 6), (6, 7), (7, 8), (8, 9), (9, 10)}),\n",
       " (1,\n",
       "  {(2, 1), (3, 2), (4, 3), (5, 4), (6, 5), (7, 6), (8, 7), (9, 8), (10, 9)}),\n",
       " (0,\n",
       "  {(1, 1),\n",
       "   (2, 2),\n",
       "   (3, 3),\n",
       "   (4, 4),\n",
       "   (5, 5),\n",
       "   (6, 6),\n",
       "   (7, 7),\n",
       "   (8, 8),\n",
       "   (9, 9),\n",
       "   (10, 10)}),\n",
       " (6, {(7, 1), (8, 2), (9, 3), (10, 4)}),\n",
       " (-3, {(1, 4), (2, 5), (3, 6), (4, 7), (5, 8), (6, 9), (7, 10)}),\n",
       " (2, {(3, 1), (4, 2), (5, 3), (6, 4), (7, 5), (8, 6), (9, 7), (10, 8)}),\n",
       " (8, {(9, 1), (10, 2)}),\n",
       " (-2, {(1, 3), (2, 4), (3, 5), (4, 6), (5, 7), (6, 8), (7, 9), (8, 10)}),\n",
       " (-7, {(1, 8), (2, 9), (3, 10)}),\n",
       " (-9, {(1, 10)}),\n",
       " (-4, {(1, 5), (2, 6), (3, 7), (4, 8), (5, 9), (6, 10)}),\n",
       " (5, {(6, 1), (7, 2), (8, 3), (9, 4), (10, 5)}),\n",
       " (3, {(4, 1), (5, 2), (6, 3), (7, 4), (8, 5), (9, 6), (10, 7)}),\n",
       " (9, {(10, 1)}),\n",
       " (-6, {(1, 7), (2, 8), (3, 9), (4, 10)}),\n",
       " (7, {(8, 1), (9, 2), (10, 3)}),\n",
       " (-8, {(1, 9), (2, 10)})]"
      ]
     },
     "execution_count": 18,
     "metadata": {},
     "output_type": "execute_result"
    }
   ],
   "source": [
    "list(ds.items())"
   ]
  },
  {
   "cell_type": "code",
   "execution_count": 20,
   "id": "1db310b0-0559-4295-aced-3081e251dd89",
   "metadata": {},
   "outputs": [],
   "source": [
    "leys={i : p(a) for i,a in ds.items()}"
   ]
  },
  {
   "cell_type": "code",
   "execution_count": 22,
   "id": "7ddb88b8-a511-4961-ac5e-3f3cde3d6750",
   "metadata": {},
   "outputs": [
    {
     "data": {
      "text/plain": [
       "{-5: Fraction(1, 20),\n",
       " 4: Fraction(3, 50),\n",
       " -1: Fraction(9, 100),\n",
       " 1: Fraction(9, 100),\n",
       " 0: Fraction(1, 10),\n",
       " 6: Fraction(1, 25),\n",
       " -3: Fraction(7, 100),\n",
       " 2: Fraction(2, 25),\n",
       " 8: Fraction(1, 50),\n",
       " -2: Fraction(2, 25),\n",
       " -7: Fraction(3, 100),\n",
       " -9: Fraction(1, 100),\n",
       " -4: Fraction(3, 50),\n",
       " 5: Fraction(1, 20),\n",
       " 3: Fraction(7, 100),\n",
       " 9: Fraction(1, 100),\n",
       " -6: Fraction(1, 25),\n",
       " 7: Fraction(3, 100),\n",
       " -8: Fraction(1, 50)}"
      ]
     },
     "execution_count": 22,
     "metadata": {},
     "output_type": "execute_result"
    }
   ],
   "source": [
    "leys"
   ]
  },
  {
   "cell_type": "markdown",
   "id": "4e44454d-5e71-4c31-b45c-b4443e905986",
   "metadata": {},
   "source": [
    "Recordemos que:\n",
    "\n",
    "$$X : \\Omega \\to \\mathbb{R} $$\n",
    "\n",
    "$$ f_X(x) = \\begin{cases} \\mathbb{P}(X=x), \\quad \\text{si } x\\in R_{X} \\\\ 0 \\quad \\text{e.o.c} \\end{cases} $$"
   ]
  },
  {
   "cell_type": "markdown",
   "id": "87432809-6a1f-46ba-ba20-b4c270fa5d98",
   "metadata": {},
   "source": [
    "Para nuestro evento $$s_n = \\{ (x,y) \\in \\Omega : x-y = n \\} $$ se tiene la siguiente variable aleatoria:\n",
    "$$s:\\Omega \\rightarrow \\{ -9,-8,-7,-6,-5,-4,-3,-2,-1,0,1,2,3,4,5,6,7,8,9 \\}$$"
   ]
  },
  {
   "cell_type": "code",
   "execution_count": 26,
   "id": "a35511e2-0da1-4180-a51e-671a4533fa11",
   "metadata": {},
   "outputs": [],
   "source": [
    "ley_s = pd.Series(leys)"
   ]
  },
  {
   "cell_type": "code",
   "execution_count": null,
   "id": "b5a0dad4-12b2-4452-9e7b-3cb581152c25",
   "metadata": {},
   "outputs": [],
   "source": [
    "ley_s.sort_index()"
   ]
  },
  {
   "cell_type": "code",
   "execution_count": 28,
   "id": "c1945eab-62e1-45cf-8cbb-3b570d92091d",
   "metadata": {},
   "outputs": [],
   "source": [
    "def leys(i):\n",
    "  if i in range(-9,10):\n",
    "    x = ley_s[i]\n",
    "  else:\n",
    "    x=0\n",
    "  return x"
   ]
  },
  {
   "cell_type": "code",
   "execution_count": 30,
   "id": "350a872c-6d6d-4368-b372-f0d0e24baade",
   "metadata": {},
   "outputs": [],
   "source": [
    "#Lista de posibles valores\n",
    "rango_s=[k for k in range(-9,10)]\n",
    "\n",
    "#Proba de cada suma\n",
    "p_k = [float(leys(k)) for k in rango_s]"
   ]
  },
  {
   "cell_type": "code",
   "execution_count": 32,
   "id": "b962769c-69d9-4c79-9fbf-e5d56ec42ef5",
   "metadata": {},
   "outputs": [
    {
     "data": {
      "text/plain": [
       "(19, 19)"
      ]
     },
     "execution_count": 32,
     "metadata": {},
     "output_type": "execute_result"
    }
   ],
   "source": [
    "len(rango_s), len(p_k)"
   ]
  },
  {
   "cell_type": "code",
   "execution_count": 34,
   "id": "13e40fab-fc47-4574-876e-499ffb6b337c",
   "metadata": {},
   "outputs": [
    {
     "data": {
      "text/html": [
       "<div>\n",
       "<style scoped>\n",
       "    .dataframe tbody tr th:only-of-type {\n",
       "        vertical-align: middle;\n",
       "    }\n",
       "\n",
       "    .dataframe tbody tr th {\n",
       "        vertical-align: top;\n",
       "    }\n",
       "\n",
       "    .dataframe thead th {\n",
       "        text-align: right;\n",
       "    }\n",
       "</style>\n",
       "<table border=\"1\" class=\"dataframe\">\n",
       "  <thead>\n",
       "    <tr style=\"text-align: right;\">\n",
       "      <th></th>\n",
       "      <th>Rango</th>\n",
       "      <th>Densidad</th>\n",
       "    </tr>\n",
       "  </thead>\n",
       "  <tbody>\n",
       "    <tr>\n",
       "      <th>s(-9)</th>\n",
       "      <td>-9</td>\n",
       "      <td>0.01</td>\n",
       "    </tr>\n",
       "    <tr>\n",
       "      <th>s(-8)</th>\n",
       "      <td>-8</td>\n",
       "      <td>0.02</td>\n",
       "    </tr>\n",
       "    <tr>\n",
       "      <th>s(-7)</th>\n",
       "      <td>-7</td>\n",
       "      <td>0.03</td>\n",
       "    </tr>\n",
       "    <tr>\n",
       "      <th>s(-6)</th>\n",
       "      <td>-6</td>\n",
       "      <td>0.04</td>\n",
       "    </tr>\n",
       "    <tr>\n",
       "      <th>s(-5)</th>\n",
       "      <td>-5</td>\n",
       "      <td>0.05</td>\n",
       "    </tr>\n",
       "    <tr>\n",
       "      <th>s(-4)</th>\n",
       "      <td>-4</td>\n",
       "      <td>0.06</td>\n",
       "    </tr>\n",
       "    <tr>\n",
       "      <th>s(-3)</th>\n",
       "      <td>-3</td>\n",
       "      <td>0.07</td>\n",
       "    </tr>\n",
       "    <tr>\n",
       "      <th>s(-2)</th>\n",
       "      <td>-2</td>\n",
       "      <td>0.08</td>\n",
       "    </tr>\n",
       "    <tr>\n",
       "      <th>s(-1)</th>\n",
       "      <td>-1</td>\n",
       "      <td>0.09</td>\n",
       "    </tr>\n",
       "    <tr>\n",
       "      <th>s(0)</th>\n",
       "      <td>0</td>\n",
       "      <td>0.10</td>\n",
       "    </tr>\n",
       "    <tr>\n",
       "      <th>s(1)</th>\n",
       "      <td>1</td>\n",
       "      <td>0.09</td>\n",
       "    </tr>\n",
       "    <tr>\n",
       "      <th>s(2)</th>\n",
       "      <td>2</td>\n",
       "      <td>0.08</td>\n",
       "    </tr>\n",
       "    <tr>\n",
       "      <th>s(3)</th>\n",
       "      <td>3</td>\n",
       "      <td>0.07</td>\n",
       "    </tr>\n",
       "    <tr>\n",
       "      <th>s(4)</th>\n",
       "      <td>4</td>\n",
       "      <td>0.06</td>\n",
       "    </tr>\n",
       "    <tr>\n",
       "      <th>s(5)</th>\n",
       "      <td>5</td>\n",
       "      <td>0.05</td>\n",
       "    </tr>\n",
       "    <tr>\n",
       "      <th>s(6)</th>\n",
       "      <td>6</td>\n",
       "      <td>0.04</td>\n",
       "    </tr>\n",
       "    <tr>\n",
       "      <th>s(7)</th>\n",
       "      <td>7</td>\n",
       "      <td>0.03</td>\n",
       "    </tr>\n",
       "    <tr>\n",
       "      <th>s(8)</th>\n",
       "      <td>8</td>\n",
       "      <td>0.02</td>\n",
       "    </tr>\n",
       "    <tr>\n",
       "      <th>s(9)</th>\n",
       "      <td>9</td>\n",
       "      <td>0.01</td>\n",
       "    </tr>\n",
       "  </tbody>\n",
       "</table>\n",
       "</div>"
      ],
      "text/plain": [
       "       Rango  Densidad\n",
       "s(-9)     -9      0.01\n",
       "s(-8)     -8      0.02\n",
       "s(-7)     -7      0.03\n",
       "s(-6)     -6      0.04\n",
       "s(-5)     -5      0.05\n",
       "s(-4)     -4      0.06\n",
       "s(-3)     -3      0.07\n",
       "s(-2)     -2      0.08\n",
       "s(-1)     -1      0.09\n",
       "s(0)       0      0.10\n",
       "s(1)       1      0.09\n",
       "s(2)       2      0.08\n",
       "s(3)       3      0.07\n",
       "s(4)       4      0.06\n",
       "s(5)       5      0.05\n",
       "s(6)       6      0.04\n",
       "s(7)       7      0.03\n",
       "s(8)       8      0.02\n",
       "s(9)       9      0.01"
      ]
     },
     "execution_count": 34,
     "metadata": {},
     "output_type": "execute_result"
    }
   ],
   "source": [
    "# Dataframe: rango_s y probas p_k\n",
    "df = pd.DataFrame({'rango_s':rango_s,\n",
    "                   'p_k':p_k},\n",
    "                   index = [f\"s({i})\" for i in range(-9,10)])\n",
    "df['p_k'] = df['p_k'].apply(lambda x: x)\n",
    "df.columns = ['Rango', 'Densidad']\n",
    "df"
   ]
  },
  {
   "cell_type": "code",
   "execution_count": 36,
   "id": "76261789-2da8-4e2a-a394-cf234cd8ebf5",
   "metadata": {},
   "outputs": [
    {
     "data": {
      "text/plain": [
       "1.0"
      ]
     },
     "execution_count": 36,
     "metadata": {},
     "output_type": "execute_result"
    }
   ],
   "source": [
    "# Se cumple la condición que la suma de todas las probabilidades es 1\n",
    "df['Densidad'].sum()"
   ]
  },
  {
   "cell_type": "code",
   "execution_count": 38,
   "id": "11c0dbf6-5a93-4069-89c7-9ade2699c158",
   "metadata": {},
   "outputs": [
    {
     "data": {
      "text/plain": [
       "<Axes: xlabel='Rango'>"
      ]
     },
     "execution_count": 38,
     "metadata": {},
     "output_type": "execute_result"
    },
    {
     "data": {
      "image/png": "[encoded data removed]",
      "text/plain": [
       "<Figure size 640x480 with 1 Axes>"
      ]
     },
     "metadata": {},
     "output_type": "display_data"
    }
   ],
   "source": [
    "df.plot.bar(x='Rango', y='Densidad')"
   ]
  },
  {
   "cell_type": "markdown",
   "id": "7cd25189-615b-4fd1-8cdf-c21284a6a989",
   "metadata": {},
   "source": [
    "Calcula la probabilidad de que los números de las dos bolas seleccionadas difieran por  2  o más."
   ]
  },
  {
   "cell_type": "code",
   "execution_count": 41,
   "id": "8097216f-8904-4ac7-92e3-7ec038930ff7",
   "metadata": {},
   "outputs": [
    {
     "name": "stdout",
     "output_type": "stream",
     "text": [
      "La probabilidad de que los números difieran en 2 o más es: 18/25\n"
     ]
    }
   ],
   "source": [
    "omega = set(product({1,2,3,4,5,6,7,8,9,10},repeat=2))\n",
    "\n",
    "s = {(x,y) : abs(x-y) for x,y in omega} #Usamos valor absoluto para la diferencia\n",
    "\n",
    "ds = defaultdict(set)\n",
    "for i,j in s.items():\n",
    "  ds[j].add(i)\n",
    "\n",
    "leys={i : p(a) for i,a in ds.items()}\n",
    "\n",
    "# Calcula la probabilidad de que los números difieran por 2 o más\n",
    "prob_diferencia_2_o_mas = sum(leys[i] for i in leys if i >= 2)\n",
    "\n",
    "print(f\"La probabilidad de que los números difieran en 2 o más es: {prob_diferencia_2_o_mas}\")\n"
   ]
  },
  {
   "cell_type": "code",
   "execution_count": null,
   "id": "a5a10c40-4e59-4d18-9912-b15570b74e5b",
   "metadata": {},
   "outputs": [],
   "source": []
  }
 ],
 "metadata": {
  "kernelspec": {
   "display_name": "Python [conda env:base] *",
   "language": "python",
   "name": "conda-base-py"
  },
  "language_info": {
   "codemirror_mode": {
    "name": "ipython",
    "version": 3
   },
   "file_extension": ".py",
   "mimetype": "text/x-python",
   "name": "python",
   "nbconvert_exporter": "python",
   "pygments_lexer": "ipython3",
   "version": "3.12.7"
  }
 },
 "nbformat": 4,
 "nbformat_minor": 5
}
